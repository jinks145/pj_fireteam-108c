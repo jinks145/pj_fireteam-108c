{
 "cells": [
  {
   "cell_type": "markdown",
   "metadata": {},
   "source": [
    "# :Autoencoder Implementation"
   ]
  },
  {
   "cell_type": "markdown",
   "metadata": {},
   "source": [
    "To implement the autoencoder, we chose Pytorch for its similarity to numpy and compatibility to gpus."
   ]
  },
  {
   "cell_type": "code",
   "execution_count": 1,
   "metadata": {},
   "outputs": [
    {
     "name": "stderr",
     "output_type": "stream",
     "text": [
      "/usr/lib/python3/dist-packages/scipy/__init__.py:146: UserWarning: A NumPy version >=1.17.3 and <1.25.0 is required for this version of SciPy (detected version 1.25.2\n",
      "  warnings.warn(f\"A NumPy version >={np_minversion} and <{np_maxversion}\"\n"
     ]
    }
   ],
   "source": [
    "import numpy as np\n",
    "import torch\n",
    "from torch import nn\n",
    "from torch.utils.data import DataLoader, TensorDataset, Dataset\n",
    "import pandas as pd\n",
    "from scipy.sparse import coo_matrix"
   ]
  },
  {
   "cell_type": "code",
   "execution_count": 2,
   "metadata": {},
   "outputs": [],
   "source": [
    "device = 'cuda:0' if torch.cuda.is_available() else 'cpu'"
   ]
  },
  {
   "cell_type": "markdown",
   "metadata": {},
   "source": [
    "### Test Matrix"
   ]
  },
  {
   "cell_type": "markdown",
   "metadata": {},
   "source": [
    "Test Matrix below was used to debug and test the performance before applying it to the actual matrix.\n",
    "The matrix is a sparse integer matrix of 100 users by 50 items."
   ]
  },
  {
   "cell_type": "code",
   "execution_count": null,
   "metadata": {},
   "outputs": [],
   "source": [
    "# Set random seed for reproducibility\n",
    "np.random.seed(42)\n",
    "torch.manual_seed(42)\n",
    "\n",
    "# Create a user-item interaction matrix (100 users, 50 items) with sparsity\n",
    "num_users = 10000\n",
    "num_items = 500\n",
    "interaction_matrix = np.random.randint(0, 6, size=(num_users, num_items))  # Random interactions from 0 to 5\n",
    "\n",
    "# Introduce sparsity by setting a high percentage of interactions to 0\n",
    "sparsity = 0.8  # 80% of the interactions will be set to 0\n",
    "mask = np.random.rand(*interaction_matrix.shape) < sparsity\n",
    "interaction_matrix[mask] = 0\n"
   ]
  },
  {
   "cell_type": "code",
   "execution_count": 3,
   "metadata": {},
   "outputs": [],
   "source": [
    "class SparseDataset(Dataset):\n",
    "    def __init__(self, coo_matrix):\n",
    "        self.data = torch.tensor(coo_matrix.data, dtype=torch.float32)\n",
    "        self.row = torch.tensor(coo_matrix.row, dtype=torch.long)\n",
    "        self.col = torch.tensor(coo_matrix.col, dtype=torch.long)\n",
    "        self.shape = coo_matrix.shape\n",
    "\n",
    "    def __len__(self):\n",
    "        return len(self.data)\n",
    "\n",
    "    def __getitem__(self, idx):\n",
    "        return self.row[idx], self.col[idx], self.data[idx]"
   ]
  },
  {
   "cell_type": "code",
   "execution_count": 4,
   "metadata": {},
   "outputs": [],
   "source": [
    "def convert_df_coo(df):\n",
    "    user_mapping = {user_id: idx for idx, user_id in enumerate(df['User_id'].unique())}\n",
    "    book_mapping = {book_id: idx for idx, book_id in enumerate(df['book_id'].unique())}\n",
    "    \n",
    "    # Map the User_id and book_id columns to their integer indices\n",
    "    df['user_idx'] = df['User_id'].map(user_mapping)\n",
    "    df['book_idx'] = df['book_id'].map(book_mapping)\n",
    "    \n",
    "    # Create the COO matrix\n",
    "    row = df['user_idx'].values\n",
    "    col = df['book_idx'].values\n",
    "    data = df['review/score'].values\n",
    "    num_users = len(user_mapping)\n",
    "    num_books = len(book_mapping)\n",
    "    \n",
    "    coo = coo_matrix((data, (row, col)), shape=(num_users, num_books))\n",
    "    return coo"
   ]
  },
  {
   "cell_type": "code",
   "execution_count": 5,
   "metadata": {},
   "outputs": [],
   "source": [
    "class AutoEncoder(nn.Module):\n",
    "\tdef __init__(self, input_dim, bottleneck_size, device='cpu'):\n",
    "\t\tsuper(AutoEncoder, self).__init__()\n",
    "\t\tself.device = device\n",
    "\t\tself.encoder = nn.Sequential(\n",
    "\t\t\tnn.Linear(input_dim, 128),\n",
    "\t\t\tnn.ReLU(),\n",
    "\t\t\tnn.Linear(128, 64),\n",
    "\t\t\tnn.ReLU(),\n",
    "\t\t\tnn.Linear(64, bottleneck_size)\n",
    "\t\t)\n",
    "\t\tself.decoder = nn.Sequential(\n",
    "\t\t\tnn.Linear(bottleneck_size, 64),\n",
    "\t\t\tnn.ReLU(),\n",
    "\t\t\tnn.Linear(64, 128),\n",
    "\t\t\tnn.ReLU(),\n",
    "\t\t\tnn.Linear(128, input_dim)\n",
    "\t\t)\n",
    "\t\n",
    "\tdef forward(self, x):\n",
    "\t\tx = self.encoder(x)\n",
    "\t\tx = self.decoder(x)\n",
    "\t\treturn x\n",
    "    \n",
    "\tdef fit(self, batches, input_dim, n_epochs=100, min_delta=0.0001, lr=0.001, patience=10):\n",
    "\n",
    "\t\toptimizer = torch.optim.Adam(self.parameters(), lr=lr)\n",
    "\t\tcriterion = nn.MSELoss()\n",
    "\t\tbest_loss = float('inf')\n",
    "\t\tpatience_counter = 0\n",
    "\t\tepoch_losses = []\n",
    "\t\tepochs = []\n",
    "\t\tfor epoch in range(n_epochs):\n",
    "\t\t\tepoch_loss = 0.0\n",
    "\t\t\tfor row, col, value in batches:\n",
    "\t\t\t\trow, col, value = row.to(self.device), col.to(self.device), value.to(self.device)\n",
    "                \n",
    "                # Create an input vector with the same length as the number of unique columns\n",
    "\t\t\t\tinput_vector = torch.zeros((len(row), input_dim), device=self.device)\n",
    "\t\t\t\tinput_vector[torch.arange(len(row)), col] = value\n",
    "                \n",
    "\t\t\t\toptimizer.zero_grad()\n",
    "\t\t\t\toutput = self.forward(input_vector)\n",
    "                \n",
    "                # Compute the loss only on the known values\n",
    "\t\t\t\tloss = criterion(output[torch.arange(len(row)), col], value)\n",
    "\t\t\t\tloss.backward()\n",
    "\t\t\t\toptimizer.step()\n",
    "\t\t\t\tepoch_loss += loss.item()\n",
    "        \n",
    "\t\t\tepoch_loss /= len(batches)\n",
    "\n",
    "\t\t\tif epoch_loss < best_loss - min_delta:\n",
    "\t\t\t\tbest_loss = epoch_loss\n",
    "\t\t\t\tpatience_counter = 0\n",
    "\t\t\telse:\n",
    "\t\t\t\tpatience_counter += 1\n",
    "\n",
    "\t\t\tif patience_counter >= patience:\n",
    "\t\t\t\tprint(f\"Early stopping at epoch {epoch+1} with loss {epoch_loss:.4f}\")\n",
    "\t\t\t\tbreak\n",
    "\t\t\tepoch_losses.append(epoch_loss)\n",
    "\t\t\tepochs.append(epoch+1)\n",
    "\t\t\tprint(f'Epoch [{epoch+1}/{n_epochs}], Loss: {epoch_loss:.4f}')\n",
    "\t\treturn epochs, epoch_losses\n"
   ]
  },
  {
   "cell_type": "code",
   "execution_count": 15,
   "metadata": {},
   "outputs": [],
   "source": [
    "def fit_by_bottleneck(user_ratings: pd.DataFrame, device: torch.device, bottleneck: int = 10):\n",
    "\n",
    "    # Create the COO matrix\n",
    "    coo = convert_df_coo(user_ratings)\n",
    "    dataset = SparseDataset(coo)\n",
    "    model = AutoEncoder(coo.shape[1], 10, device=device).to(device)\n",
    "    batch_size = 128\n",
    "    \n",
    "    batches = DataLoader(dataset, batch_size=batch_size, shuffle=True)\n",
    "    \n",
    "    epochs, losses = model.fit(batches, coo.shape[1], n_epochs=200, lr=0.001, patience=20)\n",
    "    \n",
    "    pd.DataFrame({\"epochs\": epochs, \"training losses\": losses}).to_csv(f'sample_model/{bottleneck}.csv')\n",
    "    torch.save(model, f'models/model/model_k={bottleneck}.pt')\n",
    "    torch.save(model.state_dict(), f'models/weights/smodel_k_weights_{bottleneck}.pt')"
   ]
  },
  {
   "cell_type": "code",
   "execution_count": 7,
   "metadata": {},
   "outputs": [],
   "source": [
    "# coo = coo_matrix(interaction_matrix, (num_users, num_items))\n",
    "# dense_matrix = torch.tensor(coo.data(), dtype=torch.float32).to(device)\n",
    "# dataset = TensorDataset(dense_matrix)\n",
    "# bottleneck_size = 32\n",
    "# batch_size = 128\n",
    "# train_loader = DataLoader(dataset, batch_size=batch_size, shuffle=True)"
   ]
  },
  {
   "cell_type": "code",
   "execution_count": null,
   "metadata": {},
   "outputs": [],
   "source": [
    "model = AutoEncoder(num_items, bottleneck_size, device=device).to(device)"
   ]
  },
  {
   "cell_type": "code",
   "execution_count": 8,
   "metadata": {},
   "outputs": [],
   "source": [
    "import matplotlib.pyplot as plt"
   ]
  },
  {
   "cell_type": "code",
   "execution_count": 9,
   "metadata": {},
   "outputs": [],
   "source": [
    "# # Train the model\n",
    "# epochs, epoch_losses = model.fit(train_loader, min_delta=0.001, n_epochs=1000, lr=0.001, patience=10)\n",
    "\n",
    "# # Plot the training loss over epochs\n",
    "# plt.plot(epochs, epoch_losses, label='Training Loss')\n",
    "# plt.xlabel('Epoch')\n",
    "# plt.ylabel('Loss')\n",
    "# plt.title('Training Loss over Epochs')\n",
    "# plt.legend()\n",
    "# plt.show()"
   ]
  },
  {
   "cell_type": "markdown",
   "metadata": {},
   "source": [
    "### Training the autoencoders"
   ]
  },
  {
   "cell_type": "markdown",
   "metadata": {},
   "source": [
    "We then trained the model using LambdaLab's nvidia A10 gpu VM instance. "
   ]
  },
  {
   "cell_type": "code",
   "execution_count": 10,
   "metadata": {},
   "outputs": [],
   "source": [
    "model = None"
   ]
  },
  {
   "cell_type": "markdown",
   "metadata": {},
   "source": [
    "Note: `testing_mode` is a checkpoint variable to signify that we are testing the model on the local end. If set to false, it will train the model."
   ]
  },
  {
   "cell_type": "code",
   "execution_count": 11,
   "metadata": {},
   "outputs": [],
   "source": [
    "testing_mode = False"
   ]
  },
  {
   "cell_type": "code",
   "execution_count": 12,
   "metadata": {},
   "outputs": [],
   "source": [
    "user_ratings = pd.read_csv('ratings_user_tagged.csv.gzip', compression='gzip')\n",
    "# user_ratings = user_ratings.fillna(0)"
   ]
  },
  {
   "cell_type": "code",
   "execution_count": 13,
   "metadata": {},
   "outputs": [
    {
     "data": {
      "text/html": [
       "<div>\n",
       "<style scoped>\n",
       "    .dataframe tbody tr th:only-of-type {\n",
       "        vertical-align: middle;\n",
       "    }\n",
       "\n",
       "    .dataframe tbody tr th {\n",
       "        vertical-align: top;\n",
       "    }\n",
       "\n",
       "    .dataframe thead th {\n",
       "        text-align: right;\n",
       "    }\n",
       "</style>\n",
       "<table border=\"1\" class=\"dataframe\">\n",
       "  <thead>\n",
       "    <tr style=\"text-align: right;\">\n",
       "      <th></th>\n",
       "      <th>Unnamed: 0</th>\n",
       "      <th>User_id</th>\n",
       "      <th>review/score</th>\n",
       "      <th>book_id</th>\n",
       "    </tr>\n",
       "  </thead>\n",
       "  <tbody>\n",
       "    <tr>\n",
       "      <th>0</th>\n",
       "      <td>1</td>\n",
       "      <td>A30TK6U7DNS82R</td>\n",
       "      <td>5.0</td>\n",
       "      <td>0826414346</td>\n",
       "    </tr>\n",
       "    <tr>\n",
       "      <th>1</th>\n",
       "      <td>3</td>\n",
       "      <td>A2MVUWT453QH61</td>\n",
       "      <td>4.0</td>\n",
       "      <td>0826414346</td>\n",
       "    </tr>\n",
       "    <tr>\n",
       "      <th>2</th>\n",
       "      <td>5</td>\n",
       "      <td>A2F6NONFUDB6UK</td>\n",
       "      <td>4.0</td>\n",
       "      <td>0826414346</td>\n",
       "    </tr>\n",
       "    <tr>\n",
       "      <th>3</th>\n",
       "      <td>6</td>\n",
       "      <td>A14OJS0VWMOSWO</td>\n",
       "      <td>5.0</td>\n",
       "      <td>0826414346</td>\n",
       "    </tr>\n",
       "    <tr>\n",
       "      <th>4</th>\n",
       "      <td>11</td>\n",
       "      <td>A373VVEU6Z9M0N</td>\n",
       "      <td>5.0</td>\n",
       "      <td>0829814000</td>\n",
       "    </tr>\n",
       "    <tr>\n",
       "      <th>...</th>\n",
       "      <td>...</td>\n",
       "      <td>...</td>\n",
       "      <td>...</td>\n",
       "      <td>...</td>\n",
       "    </tr>\n",
       "    <tr>\n",
       "      <th>406027</th>\n",
       "      <td>34950</td>\n",
       "      <td>A2PK3NTC9RMEF4</td>\n",
       "      <td>3.0</td>\n",
       "      <td>0786182431</td>\n",
       "    </tr>\n",
       "    <tr>\n",
       "      <th>406028</th>\n",
       "      <td>34958</td>\n",
       "      <td>A32ZKBXJJ45BRY</td>\n",
       "      <td>3.0</td>\n",
       "      <td>B00085PL4C</td>\n",
       "    </tr>\n",
       "    <tr>\n",
       "      <th>406029</th>\n",
       "      <td>34967</td>\n",
       "      <td>A25JH6CO4DVINS</td>\n",
       "      <td>4.0</td>\n",
       "      <td>0255364520</td>\n",
       "    </tr>\n",
       "    <tr>\n",
       "      <th>406030</th>\n",
       "      <td>34969</td>\n",
       "      <td>AOFGOUMXLMVZS</td>\n",
       "      <td>4.0</td>\n",
       "      <td>B000NSLVCU</td>\n",
       "    </tr>\n",
       "    <tr>\n",
       "      <th>406031</th>\n",
       "      <td>34970</td>\n",
       "      <td>A1SMUB9ASL5L9Y</td>\n",
       "      <td>4.0</td>\n",
       "      <td>B000NSLVCU</td>\n",
       "    </tr>\n",
       "  </tbody>\n",
       "</table>\n",
       "<p>406032 rows × 4 columns</p>\n",
       "</div>"
      ],
      "text/plain": [
       "        Unnamed: 0         User_id  review/score     book_id\n",
       "0                1  A30TK6U7DNS82R           5.0  0826414346\n",
       "1                3  A2MVUWT453QH61           4.0  0826414346\n",
       "2                5  A2F6NONFUDB6UK           4.0  0826414346\n",
       "3                6  A14OJS0VWMOSWO           5.0  0826414346\n",
       "4               11  A373VVEU6Z9M0N           5.0  0829814000\n",
       "...            ...             ...           ...         ...\n",
       "406027       34950  A2PK3NTC9RMEF4           3.0  0786182431\n",
       "406028       34958  A32ZKBXJJ45BRY           3.0  B00085PL4C\n",
       "406029       34967  A25JH6CO4DVINS           4.0  0255364520\n",
       "406030       34969   AOFGOUMXLMVZS           4.0  B000NSLVCU\n",
       "406031       34970  A1SMUB9ASL5L9Y           4.0  B000NSLVCU\n",
       "\n",
       "[406032 rows x 4 columns]"
      ]
     },
     "execution_count": 13,
     "metadata": {},
     "output_type": "execute_result"
    }
   ],
   "source": [
    "user_ratings"
   ]
  },
  {
   "cell_type": "code",
   "execution_count": 14,
   "metadata": {},
   "outputs": [
    {
     "data": {
      "text/plain": [
       "6842"
      ]
     },
     "execution_count": 14,
     "metadata": {},
     "output_type": "execute_result"
    }
   ],
   "source": [
    "user_ratings['User_id'].unique().shape[0]"
   ]
  },
  {
   "cell_type": "markdown",
   "metadata": {},
   "source": [
    "After training on colab, we utilized the pytorch imports the weights and the model architecture into the \n",
    "model."
   ]
  },
  {
   "cell_type": "markdown",
   "metadata": {},
   "source": [
    "To see if there is a significant difference between bottlenecks, we decided to run it with different bottlenecks."
   ]
  },
  {
   "cell_type": "code",
   "execution_count": 17,
   "metadata": {},
   "outputs": [],
   "source": [
    "bottlenecks = [16]"
   ]
  },
  {
   "cell_type": "markdown",
   "metadata": {},
   "source": [
    "For training, we used the batch size of 128 and parameters of 1000 epoch, learning rate of 0.001."
   ]
  },
  {
   "cell_type": "code",
   "execution_count": 18,
   "metadata": {},
   "outputs": [
    {
     "name": "stdout",
     "output_type": "stream",
     "text": [
      "=== training k=16 model ===\n",
      "\n",
      "Epoch [1/200], Loss: 6.0190\n",
      "Epoch [2/200], Loss: 1.5349\n",
      "Epoch [3/200], Loss: 0.8493\n",
      "Epoch [4/200], Loss: 0.7627\n",
      "Epoch [5/200], Loss: 0.6280\n",
      "Epoch [6/200], Loss: 0.5494\n",
      "Epoch [7/200], Loss: 0.4556\n",
      "Epoch [8/200], Loss: 0.4256\n",
      "Epoch [9/200], Loss: 0.3695\n",
      "Epoch [10/200], Loss: 0.3435\n",
      "Epoch [11/200], Loss: 0.3082\n",
      "Epoch [12/200], Loss: 0.2886\n",
      "Epoch [13/200], Loss: 0.2609\n",
      "Epoch [14/200], Loss: 0.2482\n",
      "Epoch [15/200], Loss: 0.2282\n",
      "Epoch [16/200], Loss: 0.2179\n",
      "Epoch [17/200], Loss: 0.2035\n",
      "Epoch [18/200], Loss: 0.1932\n",
      "Epoch [19/200], Loss: 0.1825\n",
      "Epoch [20/200], Loss: 0.1747\n",
      "Epoch [21/200], Loss: 0.1652\n",
      "Epoch [22/200], Loss: 0.1567\n",
      "Epoch [23/200], Loss: 0.1517\n",
      "Epoch [24/200], Loss: 0.1420\n",
      "Epoch [25/200], Loss: 0.1378\n",
      "Epoch [26/200], Loss: 0.1297\n",
      "Epoch [27/200], Loss: 0.1267\n",
      "Epoch [28/200], Loss: 0.1194\n",
      "Epoch [29/200], Loss: 0.1164\n",
      "Epoch [30/200], Loss: 0.1111\n",
      "Epoch [31/200], Loss: 0.1062\n",
      "Epoch [32/200], Loss: 0.1033\n",
      "Epoch [33/200], Loss: 0.0988\n",
      "Epoch [34/200], Loss: 0.0958\n",
      "Epoch [35/200], Loss: 0.0919\n",
      "Epoch [36/200], Loss: 0.0886\n",
      "Epoch [37/200], Loss: 0.0863\n",
      "Epoch [38/200], Loss: 0.0832\n",
      "Epoch [39/200], Loss: 0.0810\n",
      "Epoch [40/200], Loss: 0.0789\n",
      "Epoch [41/200], Loss: 0.0764\n",
      "Epoch [42/200], Loss: 0.0740\n",
      "Epoch [43/200], Loss: 0.0733\n",
      "Epoch [44/200], Loss: 0.0699\n",
      "Epoch [45/200], Loss: 0.0695\n",
      "Epoch [46/200], Loss: 0.0669\n",
      "Epoch [47/200], Loss: 0.0666\n",
      "Epoch [48/200], Loss: 0.0640\n",
      "Epoch [49/200], Loss: 0.0634\n",
      "Epoch [50/200], Loss: 0.0617\n",
      "Epoch [51/200], Loss: 0.0610\n",
      "Epoch [52/200], Loss: 0.0596\n",
      "Epoch [53/200], Loss: 0.0586\n",
      "Epoch [54/200], Loss: 0.0574\n",
      "Epoch [55/200], Loss: 0.0567\n",
      "Epoch [56/200], Loss: 0.0552\n",
      "Epoch [57/200], Loss: 0.0549\n",
      "Epoch [58/200], Loss: 0.0529\n",
      "Epoch [59/200], Loss: 0.0527\n",
      "Epoch [60/200], Loss: 0.0512\n",
      "Epoch [61/200], Loss: 0.0510\n",
      "Epoch [62/200], Loss: 0.0500\n",
      "Epoch [63/200], Loss: 0.0495\n",
      "Epoch [64/200], Loss: 0.0489\n",
      "Epoch [65/200], Loss: 0.0474\n",
      "Epoch [66/200], Loss: 0.0477\n",
      "Epoch [67/200], Loss: 0.0466\n",
      "Epoch [68/200], Loss: 0.0458\n",
      "Epoch [69/200], Loss: 0.0454\n",
      "Epoch [70/200], Loss: 0.0454\n",
      "Epoch [71/200], Loss: 0.0440\n",
      "Epoch [72/200], Loss: 0.0431\n",
      "Epoch [73/200], Loss: 0.0434\n",
      "Epoch [74/200], Loss: 0.0420\n",
      "Epoch [75/200], Loss: 0.0424\n",
      "Epoch [76/200], Loss: 0.0414\n",
      "Epoch [77/200], Loss: 0.0408\n",
      "Epoch [78/200], Loss: 0.0402\n",
      "Epoch [79/200], Loss: 0.0400\n",
      "Epoch [80/200], Loss: 0.0394\n",
      "Epoch [81/200], Loss: 0.0389\n",
      "Epoch [82/200], Loss: 0.0384\n",
      "Epoch [83/200], Loss: 0.0387\n",
      "Epoch [84/200], Loss: 0.0382\n",
      "Epoch [85/200], Loss: 0.0373\n",
      "Epoch [86/200], Loss: 0.0373\n",
      "Epoch [87/200], Loss: 0.0366\n",
      "Epoch [88/200], Loss: 0.0365\n",
      "Epoch [89/200], Loss: 0.0359\n",
      "Epoch [90/200], Loss: 0.0356\n",
      "Epoch [91/200], Loss: 0.0352\n",
      "Epoch [92/200], Loss: 0.0349\n",
      "Epoch [93/200], Loss: 0.0350\n",
      "Epoch [94/200], Loss: 0.0344\n",
      "Epoch [95/200], Loss: 0.0339\n",
      "Epoch [96/200], Loss: 0.0342\n",
      "Epoch [97/200], Loss: 0.0339\n",
      "Epoch [98/200], Loss: 0.0332\n",
      "Epoch [99/200], Loss: 0.0332\n",
      "Epoch [100/200], Loss: 0.0329\n",
      "Epoch [101/200], Loss: 0.0331\n",
      "Epoch [102/200], Loss: 0.0325\n",
      "Epoch [103/200], Loss: 0.0321\n",
      "Epoch [104/200], Loss: 0.0320\n",
      "Epoch [105/200], Loss: 0.0316\n",
      "Epoch [106/200], Loss: 0.0307\n",
      "Epoch [107/200], Loss: 0.0315\n",
      "Epoch [108/200], Loss: 0.0312\n",
      "Epoch [109/200], Loss: 0.0305\n",
      "Epoch [110/200], Loss: 0.0306\n",
      "Epoch [111/200], Loss: 0.0301\n",
      "Epoch [112/200], Loss: 0.0302\n",
      "Epoch [113/200], Loss: 0.0298\n",
      "Epoch [114/200], Loss: 0.0305\n",
      "Epoch [115/200], Loss: 0.0296\n",
      "Epoch [116/200], Loss: 0.0298\n",
      "Epoch [117/200], Loss: 0.0294\n",
      "Epoch [118/200], Loss: 0.0288\n",
      "Epoch [119/200], Loss: 0.0291\n",
      "Epoch [120/200], Loss: 0.0287\n",
      "Epoch [121/200], Loss: 0.0285\n",
      "Epoch [122/200], Loss: 0.0283\n",
      "Epoch [123/200], Loss: 0.0282\n",
      "Epoch [124/200], Loss: 0.0282\n",
      "Epoch [125/200], Loss: 0.0277\n",
      "Epoch [126/200], Loss: 0.0276\n",
      "Epoch [127/200], Loss: 0.0276\n",
      "Epoch [128/200], Loss: 0.0274\n",
      "Epoch [129/200], Loss: 0.0273\n",
      "Epoch [130/200], Loss: 0.0275\n",
      "Epoch [131/200], Loss: 0.0270\n",
      "Epoch [132/200], Loss: 0.0272\n",
      "Epoch [133/200], Loss: 0.0264\n",
      "Epoch [134/200], Loss: 0.0266\n",
      "Epoch [135/200], Loss: 0.0266\n",
      "Epoch [136/200], Loss: 0.0263\n",
      "Epoch [137/200], Loss: 0.0265\n",
      "Epoch [138/200], Loss: 0.0259\n",
      "Epoch [139/200], Loss: 0.0262\n",
      "Epoch [140/200], Loss: 0.0256\n",
      "Epoch [141/200], Loss: 0.0259\n",
      "Epoch [142/200], Loss: 0.0253\n",
      "Epoch [143/200], Loss: 0.0254\n",
      "Epoch [144/200], Loss: 0.0255\n",
      "Epoch [145/200], Loss: 0.0253\n",
      "Epoch [146/200], Loss: 0.0249\n",
      "Epoch [147/200], Loss: 0.0249\n",
      "Epoch [148/200], Loss: 0.0251\n",
      "Epoch [149/200], Loss: 0.0247\n",
      "Epoch [150/200], Loss: 0.0248\n",
      "Epoch [151/200], Loss: 0.0243\n",
      "Epoch [152/200], Loss: 0.0245\n",
      "Epoch [153/200], Loss: 0.0244\n",
      "Epoch [154/200], Loss: 0.0243\n",
      "Epoch [155/200], Loss: 0.0240\n",
      "Epoch [156/200], Loss: 0.0242\n",
      "Epoch [157/200], Loss: 0.0237\n",
      "Epoch [158/200], Loss: 0.0237\n",
      "Epoch [159/200], Loss: 0.0239\n",
      "Epoch [160/200], Loss: 0.0232\n",
      "Epoch [161/200], Loss: 0.0234\n",
      "Epoch [162/200], Loss: 0.0237\n",
      "Epoch [163/200], Loss: 0.0229\n",
      "Epoch [164/200], Loss: 0.0232\n",
      "Epoch [165/200], Loss: 0.0229\n",
      "Epoch [166/200], Loss: 0.0230\n",
      "Epoch [167/200], Loss: 0.0227\n",
      "Epoch [168/200], Loss: 0.0225\n",
      "Epoch [169/200], Loss: 0.0225\n",
      "Epoch [170/200], Loss: 0.0228\n",
      "Epoch [171/200], Loss: 0.0223\n",
      "Epoch [172/200], Loss: 0.0225\n",
      "Epoch [173/200], Loss: 0.0223\n",
      "Epoch [174/200], Loss: 0.0222\n",
      "Epoch [175/200], Loss: 0.0218\n",
      "Epoch [176/200], Loss: 0.0223\n",
      "Epoch [177/200], Loss: 0.0217\n",
      "Epoch [178/200], Loss: 0.0218\n",
      "Epoch [179/200], Loss: 0.0217\n",
      "Epoch [180/200], Loss: 0.0218\n",
      "Epoch [181/200], Loss: 0.0215\n",
      "Epoch [182/200], Loss: 0.0213\n",
      "Epoch [183/200], Loss: 0.0214\n",
      "Epoch [184/200], Loss: 0.0215\n",
      "Epoch [185/200], Loss: 0.0211\n",
      "Epoch [186/200], Loss: 0.0211\n",
      "Epoch [187/200], Loss: 0.0209\n",
      "Epoch [188/200], Loss: 0.0208\n",
      "Epoch [189/200], Loss: 0.0210\n",
      "Epoch [190/200], Loss: 0.0206\n",
      "Epoch [191/200], Loss: 0.0208\n",
      "Epoch [192/200], Loss: 0.0205\n",
      "Epoch [193/200], Loss: 0.0206\n",
      "Epoch [194/200], Loss: 0.0204\n",
      "Epoch [195/200], Loss: 0.0205\n",
      "Epoch [196/200], Loss: 0.0199\n",
      "Epoch [197/200], Loss: 0.0206\n",
      "Epoch [198/200], Loss: 0.0196\n",
      "Epoch [199/200], Loss: 0.0202\n",
      "Epoch [200/200], Loss: 0.0196\n",
      "=== training k=16 model complete===\n"
     ]
    }
   ],
   "source": [
    "import os\n",
    "if testing_mode:\n",
    "\tprint('Tested')\n",
    "# check if folder exists\n",
    "# elif os.path.isdir('models'):\n",
    "# \tmodel = torch.load('amazon_model.pt')\n",
    "# \tmodel.load_state_dict(torch.load('amazon_model_weights.pt'))\n",
    "else:\n",
    "    batch_size = 128\n",
    "    for bottleneck in bottlenecks:\n",
    "        print(f\"=== training k={bottleneck} model ===\\n\")\n",
    "        os.makedirs('models', exist_ok=True)\n",
    "        os.makedirs('models/weights', exist_ok=True)\n",
    "        os.makedirs('models/model', exist_ok=True)\n",
    "        fit_by_bottleneck(user_ratings, device, bottleneck)\n",
    "        print(f\"=== training k={bottleneck} model complete===\")\n"
   ]
  },
  {
   "cell_type": "code",
   "execution_count": null,
   "metadata": {},
   "outputs": [],
   "source": [
    "torch.cuda.empty_cache()"
   ]
  },
  {
   "cell_type": "code",
   "execution_count": 19,
   "metadata": {},
   "outputs": [],
   "source": [
    "from numpy import linalg"
   ]
  },
  {
   "cell_type": "code",
   "execution_count": 20,
   "metadata": {},
   "outputs": [],
   "source": [
    "# def test_sample_model(model: AutoEncoder, interaction_matrix: pd.DataFrame, device: torch.device, sample_size: int = 10):\n",
    "# \tmodel.eval()\n",
    "\t\n",
    "# \tsampled = interaction_matrix.sample(sample_size)\n",
    "# \tdisplay(sampled)\n",
    "# \ttested = sampled.apply(lambda row: mask_test_model(model, 0.2, torch.tensor(row.to_numpy(), dtype=torch.float32, device=device)[0], device), axis=0).to_numpy()\n",
    "# \t# s = torch.tensor(sampled)\n",
    "# \treturn linalg.norm(sampled.to_numpy() - tested, ord='fro'), tested"
   ]
  },
  {
   "cell_type": "markdown",
   "metadata": {},
   "source": [
    "## Model Performance "
   ]
  },
  {
   "cell_type": "markdown",
   "metadata": {},
   "source": [
    "Now, we can test the performance for each model"
   ]
  },
  {
   "cell_type": "code",
   "execution_count": 21,
   "metadata": {},
   "outputs": [],
   "source": [
    "def get_mappings(df, user_col='User_id', book_col='book_id'):\n",
    "    \"\"\"\n",
    "    Generate mappings from user and book labels to integer indices.\n",
    "    \n",
    "    Parameters:\n",
    "    - df (pd.DataFrame): DataFrame containing user and book columns.\n",
    "    - user_col (str): Name of the user column in the DataFrame.\n",
    "    - book_col (str): Name of the book column in the DataFrame.\n",
    "    \n",
    "    Returns:\n",
    "    - user_mapping (dict): Mapping from user labels to integer indices.\n",
    "    - book_mapping (dict): Mapping from book labels to integer indices.\n",
    "    \"\"\"\n",
    "    user_mapping = {user_id: idx for idx, user_id in enumerate(df[user_col].unique())}\n",
    "    book_mapping = {book_id: idx for idx, book_id in enumerate(df[book_col].unique())}\n",
    "    \n",
    "    return user_mapping, book_mapping\n"
   ]
  },
  {
   "cell_type": "code",
   "execution_count": 22,
   "metadata": {},
   "outputs": [],
   "source": [
    "def get_value_from_coo(coo, user_label, book_label, user_mapping, book_mapping):\n",
    "    \"\"\"\n",
    "    Get the value from a COO matrix using user and book labels.\n",
    "    \n",
    "    Parameters:\n",
    "    - coo (coo_matrix): The COO matrix.\n",
    "    - user_label (str): The user label.\n",
    "    - book_label (str): The book label.\n",
    "    - user_mapping (dict): Mapping from user labels to integer indices.\n",
    "    - book_mapping (dict): Mapping from book labels to integer indices.\n",
    "    \n",
    "    Returns:\n",
    "    - value (float or None): The value from the COO matrix, or None if not found.\n",
    "    \"\"\"\n",
    "    user_idx = user_mapping.get(user_label)\n",
    "    book_idx = book_mapping.get(book_label)\n",
    "    if user_idx is not None and book_idx is not None:\n",
    "        # Convert to CSR format to make element access efficient\n",
    "        coo_csr = coo.tocsr()\n",
    "        return coo_csr[user_idx, book_idx]\n",
    "    else:\n",
    "        return None\n"
   ]
  },
  {
   "cell_type": "code",
   "execution_count": 23,
   "metadata": {},
   "outputs": [],
   "source": [
    "def mask_sample(sample_coo, mask_fraction: float, device: torch.device):\n",
    "    tensor = torch.tensor(sample_coo.toarray(), dtype=torch.float32, device=device)\n",
    "    tensor = tensor.to(device)\n",
    "    masked_tensor = tensor.clone()\n",
    "\n",
    "    # Identify non-zero elements in the tensor\n",
    "    non_zero_indices = (tensor != 0).nonzero(as_tuple=False)\n",
    "\n",
    "    # Determine the number of elements to mask\n",
    "    num_non_zeros = non_zero_indices.size(0)\n",
    "    num_to_mask = int(mask_fraction * num_non_zeros)\n",
    "\n",
    "    if num_to_mask > 0:\n",
    "        # Randomly select indices to mask\n",
    "        mask_indices = torch.randperm(num_non_zeros)[:num_to_mask]\n",
    "\n",
    "        # Apply the mask\n",
    "        masked_tensor[non_zero_indices[mask_indices, 0], non_zero_indices[mask_indices, 1]] = 0\n",
    "\n",
    "    return masked_tensor"
   ]
  },
  {
   "cell_type": "code",
   "execution_count": 24,
   "metadata": {},
   "outputs": [],
   "source": [
    "def test_sample_model(model: nn.Module, masked_sample, user_ratings: pd.DataFrame, device: torch.device):\n",
    "    model.eval()\n",
    "    sample_coo = convert_df_coo(user_ratings)\n",
    "    \n",
    "    # Convert the COO matrix to a dense tensor\n",
    "    sample_tensor = torch.tensor(sample_coo.toarray(), dtype=torch.float32, device=device)\n",
    "    \n",
    "    \n",
    "    # Get the model's predictions\n",
    "    with torch.no_grad():\n",
    "        result_tensor = model(masked_sample).cpu().detach().numpy()\n",
    "    \n",
    "    # Extract the non-zero elements from the result tensor\n",
    "    result_values = result_tensor[sample_coo.row, sample_coo.col]\n",
    "    \n",
    "    # Create the result COO matrix using the same row and column indices\n",
    "    result_coo = coo_matrix((result_values, (sample_coo.row, sample_coo.col)), shape=sample_coo.shape)\n",
    "    \n",
    "    # Calculate the RMSE\n",
    "    mse = np.mean((sample_tensor.cpu().numpy() - result_tensor) ** 2)\n",
    "    loss = np.sqrt(mse)\n",
    "    \n",
    "    return loss, result_coo, sample_coo"
   ]
  },
  {
   "cell_type": "code",
   "execution_count": 25,
   "metadata": {},
   "outputs": [],
   "source": [
    "def test_bottleneck(user_ratings: pd.DataFrame, masked_sample, device: torch.device, bottleneck: int = 10):\n",
    "    print(f'Testing bottleneck {bottleneck}')\n",
    "    if torch.cuda.is_available():\n",
    "        model = torch.load(f'models/model/model_k={bottleneck}.pt')\n",
    "        model.load_state_dict(torch.load(f'models/weights/smodel_k_weights_{bottleneck}.pt'))\n",
    "    else:\n",
    "        model = torch.load(f'models/model/model_k={bottleneck}.pt', map_location=torch.device('cpu') )\n",
    "        model.load_state_dict(torch.load(f'models/weights/smodel_k_weights_{bottleneck}.pt', map_location=torch.device('cpu')))\n",
    "    return test_sample_model(model, masked_sample, user_ratings, device)"
   ]
  },
  {
   "cell_type": "code",
   "execution_count": 27,
   "metadata": {},
   "outputs": [],
   "source": [
    "# coo = convert_df_coo(user_ratings)\n",
    "# dataset = SparseDataset(coo)\n",
    "# model = AutoEncoder(coo.shape[1], 10, device=device).to(device)\n",
    "# batch_size = 128\n",
    "\n",
    "# batches = DataLoader(dataset, batch_size=batch_size, shuffle=True)\n",
    "\n",
    "# epochs, losses = model.fit(batches, n_epochs=1000, lr=0.001, patience=20)"
   ]
  },
  {
   "cell_type": "markdown",
   "metadata": {},
   "source": [
    "### Results"
   ]
  },
  {
   "cell_type": "markdown",
   "metadata": {},
   "source": [
    "### Training Loss"
   ]
  },
  {
   "cell_type": "code",
   "execution_count": 28,
   "metadata": {},
   "outputs": [],
   "source": [
    "import matplotlib.pyplot as plt\n",
    "def plot_training_loss(bottleneck: int):\n",
    "\tloss = pd.read_csv(f'models/training_losses/{bottleneck}.csv')\n",
    "\tplt.plot(loss['epochs'], loss['training losses'])\n",
    "\tplt.title(f'Training Loss for Bottleneck Size {bottleneck}')\n",
    "\tplt.xlabel('Epoch')\n",
    "\tplt.ylabel('Loss')\n",
    "\t"
   ]
  },
  {
   "cell_type": "markdown",
   "metadata": {},
   "source": [
    "For each bottleneck, we found the training loss as show below:"
   ]
  },
  {
   "cell_type": "code",
   "execution_count": 29,
   "metadata": {},
   "outputs": [
    {
     "data": {
      "image/png": "[encoded data removed]",
      "text/plain": [
       "<Figure size 432x288 with 1 Axes>"
      ]
     },
     "metadata": {
      "needs_background": "light"
     },
     "output_type": "display_data"
    }
   ],
   "source": [
    "fig, ax = plt.subplots()\n",
    "for bottleneck in bottlenecks:\n",
    "\t\n",
    "\tplot_training_loss(bottleneck)\n",
    "\tplt.show()"
   ]
  },
  {
   "cell_type": "markdown",
   "metadata": {},
   "source": [
    "### Performance"
   ]
  },
  {
   "cell_type": "markdown",
   "metadata": {},
   "source": [
    "We then tested the performances on each bottleneck."
   ]
  },
  {
   "cell_type": "code",
   "execution_count": 30,
   "metadata": {},
   "outputs": [],
   "source": [
    "sample_coo = convert_df_coo(user_ratings)\n",
    "masked_sample = mask_sample(sample_coo, 0.05, device)"
   ]
  },
  {
   "cell_type": "markdown",
   "metadata": {},
   "source": [
    "We used the masking technique on the rows for each bottleneck."
   ]
  },
  {
   "cell_type": "code",
   "execution_count": 31,
   "metadata": {},
   "outputs": [
    {
     "name": "stdout",
     "output_type": "stream",
     "text": [
      "Testing bottleneck 16\n"
     ]
    }
   ],
   "source": [
    "bottleneck_results = [test_bottleneck(user_ratings, masked_sample, device, k) for k in bottlenecks]\n",
    "# bottleneck_results = test_bottleneck(user_ratings, device, 5)"
   ]
  },
  {
   "cell_type": "markdown",
   "metadata": {},
   "source": [
    "counted how many rows that match the original one. The resulting `coo_matrix` shows"
   ]
  },
  {
   "cell_type": "code",
   "execution_count": 32,
   "metadata": {},
   "outputs": [],
   "source": [
    "user_mapping, book_mapping = get_mappings(user_ratings)"
   ]
  },
  {
   "cell_type": "code",
   "execution_count": 33,
   "metadata": {},
   "outputs": [
    {
     "name": "stdout",
     "output_type": "stream",
     "text": [
      "RMSE: 81.0564\n",
      "Predicted for user 'A30TK6U7DNS82R' and book '0826414346': 272.91485595703125\n"
     ]
    }
   ],
   "source": [
    "# performance_results = pd.DataFrame(columns=['RMSE', 'Non-Zero Count'])\n",
    "for result in bottleneck_results:\n",
    "    print(f'RMSE: {result[0]:.4f}')\n",
    "    user_label = 'A30TK6U7DNS82R'\n",
    "    book_label = '0826414346'\n",
    "    value = get_value_from_coo(result[1], user_label, book_label, user_mapping, book_mapping)\n",
    "    print(f\"Predicted for user '{user_label}' and book '{book_label}': {value}\")\n"
   ]
  },
  {
   "cell_type": "code",
   "execution_count": 112,
   "metadata": {},
   "outputs": [
    {
     "name": "stdout",
     "output_type": "stream",
     "text": [
      "Value for user 'A30TK6U7DNS82R' and book '0826414346': 5.0\n"
     ]
    }
   ],
   "source": [
    "user_label = 'A30TK6U7DNS82R'\n",
    "book_label = '0826414346'\n",
    "value = get_value_from_coo(sample_coo, user_label, book_label, user_mapping, book_mapping)\n",
    "print(f\"Value for user '{user_label}' and book '{book_label}': {value}\")"
   ]
  },
  {
   "cell_type": "markdown",
   "metadata": {},
   "source": [
    "So, the RMSE, the trainig loss and inference in the sample reveals bottleneck size of 16 is the optimal choice."
   ]
  },
  {
   "cell_type": "code",
   "execution_count": 74,
   "metadata": {},
   "outputs": [],
   "source": [
    "test16 = False"
   ]
  },
  {
   "cell_type": "code",
   "execution_count": 75,
   "metadata": {},
   "outputs": [],
   "source": [
    "import pickle\n",
    "if not test16:\n",
    "    b16result = bottleneck_results[1]\n",
    "    pickle.dump(b16result, open('k=16.pkl', 'wb'))\n",
    "else:\n",
    "    file = open('k=16.pkl', 'rb')\n",
    "    b16result = pickle.load(file)\n",
    "    "
   ]
  },
  {
   "cell_type": "code",
   "execution_count": 76,
   "metadata": {},
   "outputs": [
    {
     "data": {
      "text/plain": [
       "(0.10207582,\n",
       " <6842x92327 sparse matrix of type '<class 'numpy.float32'>'\n",
       " \twith 406032 stored elements in COOrdinate format>,\n",
       " <6842x92327 sparse matrix of type '<class 'numpy.float64'>'\n",
       " \twith 406032 stored elements in COOrdinate format>)"
      ]
     },
     "execution_count": 76,
     "metadata": {},
     "output_type": "execute_result"
    }
   ],
   "source": [
    "b16result"
   ]
  },
  {
   "cell_type": "code",
   "execution_count": 77,
   "metadata": {},
   "outputs": [
    {
     "data": {
      "text/html": [
       "<div>\n",
       "<style scoped>\n",
       "    .dataframe tbody tr th:only-of-type {\n",
       "        vertical-align: middle;\n",
       "    }\n",
       "\n",
       "    .dataframe tbody tr th {\n",
       "        vertical-align: top;\n",
       "    }\n",
       "\n",
       "    .dataframe thead th {\n",
       "        text-align: right;\n",
       "    }\n",
       "</style>\n",
       "<table border=\"1\" class=\"dataframe\">\n",
       "  <thead>\n",
       "    <tr style=\"text-align: right;\">\n",
       "      <th></th>\n",
       "      <th>0826414346</th>\n",
       "      <th>0829814000</th>\n",
       "      <th>0963923080</th>\n",
       "      <th>0854968350</th>\n",
       "      <th>0792391810</th>\n",
       "      <th>0789480662</th>\n",
       "      <th>B000857LFE</th>\n",
       "      <th>1884734766</th>\n",
       "      <th>157067051X</th>\n",
       "      <th>B0007DVHU2</th>\n",
       "      <th>...</th>\n",
       "      <th>0762417137</th>\n",
       "      <th>0970045867</th>\n",
       "      <th>1560540990</th>\n",
       "      <th>1855854929</th>\n",
       "      <th>0425200736</th>\n",
       "      <th>B000O00U1K</th>\n",
       "      <th>0786182431</th>\n",
       "      <th>B00085PL4C</th>\n",
       "      <th>0255364520</th>\n",
       "      <th>B000NSLVCU</th>\n",
       "    </tr>\n",
       "  </thead>\n",
       "  <tbody>\n",
       "    <tr>\n",
       "      <th>A30TK6U7DNS82R</th>\n",
       "      <td>2.815453</td>\n",
       "      <td>0.000000</td>\n",
       "      <td>0.0</td>\n",
       "      <td>0.0</td>\n",
       "      <td>0.0</td>\n",
       "      <td>0.0</td>\n",
       "      <td>0.0</td>\n",
       "      <td>0.000000</td>\n",
       "      <td>0.0</td>\n",
       "      <td>0.0</td>\n",
       "      <td>...</td>\n",
       "      <td>0.000000</td>\n",
       "      <td>0.0</td>\n",
       "      <td>0.0</td>\n",
       "      <td>0.0</td>\n",
       "      <td>0.0</td>\n",
       "      <td>0.0</td>\n",
       "      <td>0.0</td>\n",
       "      <td>0.0</td>\n",
       "      <td>0.0</td>\n",
       "      <td>0.0</td>\n",
       "    </tr>\n",
       "    <tr>\n",
       "      <th>A2MVUWT453QH61</th>\n",
       "      <td>0.000778</td>\n",
       "      <td>0.000000</td>\n",
       "      <td>0.0</td>\n",
       "      <td>0.0</td>\n",
       "      <td>0.0</td>\n",
       "      <td>0.0</td>\n",
       "      <td>0.0</td>\n",
       "      <td>0.000000</td>\n",
       "      <td>0.0</td>\n",
       "      <td>0.0</td>\n",
       "      <td>...</td>\n",
       "      <td>0.000000</td>\n",
       "      <td>0.0</td>\n",
       "      <td>0.0</td>\n",
       "      <td>0.0</td>\n",
       "      <td>0.0</td>\n",
       "      <td>0.0</td>\n",
       "      <td>0.0</td>\n",
       "      <td>0.0</td>\n",
       "      <td>0.0</td>\n",
       "      <td>0.0</td>\n",
       "    </tr>\n",
       "    <tr>\n",
       "      <th>A2F6NONFUDB6UK</th>\n",
       "      <td>0.001292</td>\n",
       "      <td>0.000000</td>\n",
       "      <td>0.0</td>\n",
       "      <td>0.0</td>\n",
       "      <td>0.0</td>\n",
       "      <td>0.0</td>\n",
       "      <td>0.0</td>\n",
       "      <td>0.000000</td>\n",
       "      <td>0.0</td>\n",
       "      <td>0.0</td>\n",
       "      <td>...</td>\n",
       "      <td>0.000000</td>\n",
       "      <td>0.0</td>\n",
       "      <td>0.0</td>\n",
       "      <td>0.0</td>\n",
       "      <td>0.0</td>\n",
       "      <td>0.0</td>\n",
       "      <td>0.0</td>\n",
       "      <td>0.0</td>\n",
       "      <td>0.0</td>\n",
       "      <td>0.0</td>\n",
       "    </tr>\n",
       "    <tr>\n",
       "      <th>A14OJS0VWMOSWO</th>\n",
       "      <td>3.121191</td>\n",
       "      <td>0.000000</td>\n",
       "      <td>0.0</td>\n",
       "      <td>0.0</td>\n",
       "      <td>0.0</td>\n",
       "      <td>0.0</td>\n",
       "      <td>0.0</td>\n",
       "      <td>3.007054</td>\n",
       "      <td>0.0</td>\n",
       "      <td>0.0</td>\n",
       "      <td>...</td>\n",
       "      <td>3.064209</td>\n",
       "      <td>0.0</td>\n",
       "      <td>0.0</td>\n",
       "      <td>0.0</td>\n",
       "      <td>0.0</td>\n",
       "      <td>0.0</td>\n",
       "      <td>0.0</td>\n",
       "      <td>0.0</td>\n",
       "      <td>0.0</td>\n",
       "      <td>0.0</td>\n",
       "    </tr>\n",
       "    <tr>\n",
       "      <th>A373VVEU6Z9M0N</th>\n",
       "      <td>0.000000</td>\n",
       "      <td>0.002893</td>\n",
       "      <td>0.0</td>\n",
       "      <td>0.0</td>\n",
       "      <td>0.0</td>\n",
       "      <td>0.0</td>\n",
       "      <td>0.0</td>\n",
       "      <td>0.000000</td>\n",
       "      <td>0.0</td>\n",
       "      <td>0.0</td>\n",
       "      <td>...</td>\n",
       "      <td>0.000000</td>\n",
       "      <td>0.0</td>\n",
       "      <td>0.0</td>\n",
       "      <td>0.0</td>\n",
       "      <td>0.0</td>\n",
       "      <td>0.0</td>\n",
       "      <td>0.0</td>\n",
       "      <td>0.0</td>\n",
       "      <td>0.0</td>\n",
       "      <td>0.0</td>\n",
       "    </tr>\n",
       "    <tr>\n",
       "      <th>...</th>\n",
       "      <td>...</td>\n",
       "      <td>...</td>\n",
       "      <td>...</td>\n",
       "      <td>...</td>\n",
       "      <td>...</td>\n",
       "      <td>...</td>\n",
       "      <td>...</td>\n",
       "      <td>...</td>\n",
       "      <td>...</td>\n",
       "      <td>...</td>\n",
       "      <td>...</td>\n",
       "      <td>...</td>\n",
       "      <td>...</td>\n",
       "      <td>...</td>\n",
       "      <td>...</td>\n",
       "      <td>...</td>\n",
       "      <td>...</td>\n",
       "      <td>...</td>\n",
       "      <td>...</td>\n",
       "      <td>...</td>\n",
       "      <td>...</td>\n",
       "    </tr>\n",
       "    <tr>\n",
       "      <th>A36DPPC53ANNG7</th>\n",
       "      <td>0.000000</td>\n",
       "      <td>0.000000</td>\n",
       "      <td>0.0</td>\n",
       "      <td>0.0</td>\n",
       "      <td>0.0</td>\n",
       "      <td>0.0</td>\n",
       "      <td>0.0</td>\n",
       "      <td>0.000000</td>\n",
       "      <td>0.0</td>\n",
       "      <td>0.0</td>\n",
       "      <td>...</td>\n",
       "      <td>0.000000</td>\n",
       "      <td>0.0</td>\n",
       "      <td>0.0</td>\n",
       "      <td>0.0</td>\n",
       "      <td>0.0</td>\n",
       "      <td>0.0</td>\n",
       "      <td>0.0</td>\n",
       "      <td>0.0</td>\n",
       "      <td>0.0</td>\n",
       "      <td>0.0</td>\n",
       "    </tr>\n",
       "    <tr>\n",
       "      <th>A1FAWFMP6CDKG</th>\n",
       "      <td>0.000000</td>\n",
       "      <td>0.000000</td>\n",
       "      <td>0.0</td>\n",
       "      <td>0.0</td>\n",
       "      <td>0.0</td>\n",
       "      <td>0.0</td>\n",
       "      <td>0.0</td>\n",
       "      <td>0.000000</td>\n",
       "      <td>0.0</td>\n",
       "      <td>0.0</td>\n",
       "      <td>...</td>\n",
       "      <td>0.000000</td>\n",
       "      <td>0.0</td>\n",
       "      <td>0.0</td>\n",
       "      <td>0.0</td>\n",
       "      <td>0.0</td>\n",
       "      <td>0.0</td>\n",
       "      <td>0.0</td>\n",
       "      <td>0.0</td>\n",
       "      <td>0.0</td>\n",
       "      <td>0.0</td>\n",
       "    </tr>\n",
       "    <tr>\n",
       "      <th>ATBHMBQEC4063</th>\n",
       "      <td>0.000000</td>\n",
       "      <td>0.000000</td>\n",
       "      <td>0.0</td>\n",
       "      <td>0.0</td>\n",
       "      <td>0.0</td>\n",
       "      <td>0.0</td>\n",
       "      <td>0.0</td>\n",
       "      <td>0.000000</td>\n",
       "      <td>0.0</td>\n",
       "      <td>0.0</td>\n",
       "      <td>...</td>\n",
       "      <td>0.000000</td>\n",
       "      <td>0.0</td>\n",
       "      <td>0.0</td>\n",
       "      <td>0.0</td>\n",
       "      <td>0.0</td>\n",
       "      <td>0.0</td>\n",
       "      <td>0.0</td>\n",
       "      <td>0.0</td>\n",
       "      <td>0.0</td>\n",
       "      <td>0.0</td>\n",
       "    </tr>\n",
       "    <tr>\n",
       "      <th>A1UJ3PQFCT0HRH</th>\n",
       "      <td>0.000000</td>\n",
       "      <td>0.000000</td>\n",
       "      <td>0.0</td>\n",
       "      <td>0.0</td>\n",
       "      <td>0.0</td>\n",
       "      <td>0.0</td>\n",
       "      <td>0.0</td>\n",
       "      <td>0.000000</td>\n",
       "      <td>0.0</td>\n",
       "      <td>0.0</td>\n",
       "      <td>...</td>\n",
       "      <td>0.000000</td>\n",
       "      <td>0.0</td>\n",
       "      <td>0.0</td>\n",
       "      <td>0.0</td>\n",
       "      <td>0.0</td>\n",
       "      <td>0.0</td>\n",
       "      <td>0.0</td>\n",
       "      <td>0.0</td>\n",
       "      <td>0.0</td>\n",
       "      <td>0.0</td>\n",
       "    </tr>\n",
       "    <tr>\n",
       "      <th>A3FI8Z8NEFOTHW</th>\n",
       "      <td>0.000000</td>\n",
       "      <td>0.000000</td>\n",
       "      <td>0.0</td>\n",
       "      <td>0.0</td>\n",
       "      <td>0.0</td>\n",
       "      <td>0.0</td>\n",
       "      <td>0.0</td>\n",
       "      <td>0.000000</td>\n",
       "      <td>0.0</td>\n",
       "      <td>0.0</td>\n",
       "      <td>...</td>\n",
       "      <td>0.000000</td>\n",
       "      <td>0.0</td>\n",
       "      <td>0.0</td>\n",
       "      <td>0.0</td>\n",
       "      <td>0.0</td>\n",
       "      <td>0.0</td>\n",
       "      <td>0.0</td>\n",
       "      <td>0.0</td>\n",
       "      <td>0.0</td>\n",
       "      <td>0.0</td>\n",
       "    </tr>\n",
       "  </tbody>\n",
       "</table>\n",
       "<p>6842 rows × 92327 columns</p>\n",
       "</div>"
      ],
      "text/plain": [
       "                0826414346  0829814000  0963923080  0854968350  0792391810  \\\n",
       "A30TK6U7DNS82R    2.815453    0.000000         0.0         0.0         0.0   \n",
       "A2MVUWT453QH61    0.000778    0.000000         0.0         0.0         0.0   \n",
       "A2F6NONFUDB6UK    0.001292    0.000000         0.0         0.0         0.0   \n",
       "A14OJS0VWMOSWO    3.121191    0.000000         0.0         0.0         0.0   \n",
       "A373VVEU6Z9M0N    0.000000    0.002893         0.0         0.0         0.0   \n",
       "...                    ...         ...         ...         ...         ...   \n",
       "A36DPPC53ANNG7    0.000000    0.000000         0.0         0.0         0.0   \n",
       "A1FAWFMP6CDKG     0.000000    0.000000         0.0         0.0         0.0   \n",
       "ATBHMBQEC4063     0.000000    0.000000         0.0         0.0         0.0   \n",
       "A1UJ3PQFCT0HRH    0.000000    0.000000         0.0         0.0         0.0   \n",
       "A3FI8Z8NEFOTHW    0.000000    0.000000         0.0         0.0         0.0   \n",
       "\n",
       "                0789480662  B000857LFE  1884734766  157067051X  B0007DVHU2  \\\n",
       "A30TK6U7DNS82R         0.0         0.0    0.000000         0.0         0.0   \n",
       "A2MVUWT453QH61         0.0         0.0    0.000000         0.0         0.0   \n",
       "A2F6NONFUDB6UK         0.0         0.0    0.000000         0.0         0.0   \n",
       "A14OJS0VWMOSWO         0.0         0.0    3.007054         0.0         0.0   \n",
       "A373VVEU6Z9M0N         0.0         0.0    0.000000         0.0         0.0   \n",
       "...                    ...         ...         ...         ...         ...   \n",
       "A36DPPC53ANNG7         0.0         0.0    0.000000         0.0         0.0   \n",
       "A1FAWFMP6CDKG          0.0         0.0    0.000000         0.0         0.0   \n",
       "ATBHMBQEC4063          0.0         0.0    0.000000         0.0         0.0   \n",
       "A1UJ3PQFCT0HRH         0.0         0.0    0.000000         0.0         0.0   \n",
       "A3FI8Z8NEFOTHW         0.0         0.0    0.000000         0.0         0.0   \n",
       "\n",
       "                ...  0762417137  0970045867  1560540990  1855854929  \\\n",
       "A30TK6U7DNS82R  ...    0.000000         0.0         0.0         0.0   \n",
       "A2MVUWT453QH61  ...    0.000000         0.0         0.0         0.0   \n",
       "A2F6NONFUDB6UK  ...    0.000000         0.0         0.0         0.0   \n",
       "A14OJS0VWMOSWO  ...    3.064209         0.0         0.0         0.0   \n",
       "A373VVEU6Z9M0N  ...    0.000000         0.0         0.0         0.0   \n",
       "...             ...         ...         ...         ...         ...   \n",
       "A36DPPC53ANNG7  ...    0.000000         0.0         0.0         0.0   \n",
       "A1FAWFMP6CDKG   ...    0.000000         0.0         0.0         0.0   \n",
       "ATBHMBQEC4063   ...    0.000000         0.0         0.0         0.0   \n",
       "A1UJ3PQFCT0HRH  ...    0.000000         0.0         0.0         0.0   \n",
       "A3FI8Z8NEFOTHW  ...    0.000000         0.0         0.0         0.0   \n",
       "\n",
       "                0425200736  B000O00U1K  0786182431  B00085PL4C  0255364520  \\\n",
       "A30TK6U7DNS82R         0.0         0.0         0.0         0.0         0.0   \n",
       "A2MVUWT453QH61         0.0         0.0         0.0         0.0         0.0   \n",
       "A2F6NONFUDB6UK         0.0         0.0         0.0         0.0         0.0   \n",
       "A14OJS0VWMOSWO         0.0         0.0         0.0         0.0         0.0   \n",
       "A373VVEU6Z9M0N         0.0         0.0         0.0         0.0         0.0   \n",
       "...                    ...         ...         ...         ...         ...   \n",
       "A36DPPC53ANNG7         0.0         0.0         0.0         0.0         0.0   \n",
       "A1FAWFMP6CDKG          0.0         0.0         0.0         0.0         0.0   \n",
       "ATBHMBQEC4063          0.0         0.0         0.0         0.0         0.0   \n",
       "A1UJ3PQFCT0HRH         0.0         0.0         0.0         0.0         0.0   \n",
       "A3FI8Z8NEFOTHW         0.0         0.0         0.0         0.0         0.0   \n",
       "\n",
       "                B000NSLVCU  \n",
       "A30TK6U7DNS82R         0.0  \n",
       "A2MVUWT453QH61         0.0  \n",
       "A2F6NONFUDB6UK         0.0  \n",
       "A14OJS0VWMOSWO         0.0  \n",
       "A373VVEU6Z9M0N         0.0  \n",
       "...                    ...  \n",
       "A36DPPC53ANNG7         0.0  \n",
       "A1FAWFMP6CDKG          0.0  \n",
       "ATBHMBQEC4063          0.0  \n",
       "A1UJ3PQFCT0HRH         0.0  \n",
       "A3FI8Z8NEFOTHW         0.0  \n",
       "\n",
       "[6842 rows x 92327 columns]"
      ]
     },
     "execution_count": 77,
     "metadata": {},
     "output_type": "execute_result"
    }
   ],
   "source": [
    "dense_matrix = b16result[1].toarray()\n",
    "dense_df = pd.DataFrame(dense_matrix, index=user_mapping.keys(), columns=book_mapping.keys())\n",
    "dense_df"
   ]
  },
  {
   "cell_type": "code",
   "execution_count": 113,
   "metadata": {},
   "outputs": [
    {
     "name": "stdout",
     "output_type": "stream",
     "text": [
      "Value for user 'A14OJS0VWMOSWO' and book '1884734766': 3.5152225494384766\n",
      "Value for user 'A14OJS0VWMOSWO' and book '1884734766': 5.0\n"
     ]
    }
   ],
   "source": [
    "# dense_df.loc[][\"0743491912\"]\n",
    "user_label = \"A14OJS0VWMOSWO\"\n",
    "book_label = \"1884734766\"\n",
    "value = get_value_from_coo(bottleneck_results[1][1], user_label, book_label, user_mapping, book_mapping)\n",
    "print(f\"Value for user '{user_label}' and book '{book_label}': {value}\")\n",
    "value = get_value_from_coo(sample_coo, user_label, book_label, user_mapping, book_mapping)\n",
    "print(f\"Value for user '{user_label}' and book '{book_label}': {value}\")"
   ]
  },
  {
   "cell_type": "code",
   "execution_count": 114,
   "metadata": {},
   "outputs": [
    {
     "name": "stdout",
     "output_type": "stream",
     "text": [
      "Value for user 'A1Z5F7SZDCI5KB' and book 'B000MCASDU': 0.03236457705497742\n",
      "Value for user 'A1Z5F7SZDCI5KB' and book 'B000MCASDU': 2.0\n"
     ]
    }
   ],
   "source": [
    "user_label= \"A1Z5F7SZDCI5KB\"\n",
    "book_label=\"B000MCASDU\"\n",
    "value = get_value_from_coo(bottleneck_results[2][1], user_label, book_label, user_mapping, book_mapping)\n",
    "print(f\"Value for user '{user_label}' and book '{book_label}': {value}\")\n",
    "value = get_value_from_coo(sample_coo, user_label, book_label, user_mapping, book_mapping)\n",
    "print(f\"Value for user '{user_label}' and book '{book_label}': {value}\")"
   ]
  },
  {
   "cell_type": "code",
   "execution_count": null,
   "metadata": {},
   "outputs": [],
   "source": [
    "dense_matrix\n"
   ]
  },
  {
   "cell_type": "markdown",
   "metadata": {},
   "source": [
    "### Denoising Autoencoder"
   ]
  },
  {
   "cell_type": "markdown",
   "metadata": {},
   "source": [
    "### PCA and k-means clustering"
   ]
  },
  {
   "cell_type": "markdown",
   "metadata": {},
   "source": [
    "So, the data analyis"
   ]
  }
 ],
 "metadata": {
  "kernelspec": {
   "display_name": "Python 3 (ipykernel)",
   "language": "python",
   "name": "python3"
  },
  "language_info": {
   "codemirror_mode": {
    "name": "ipython",
    "version": 3
   },
   "file_extension": ".py",
   "mimetype": "text/x-python",
   "name": "python",
   "nbconvert_exporter": "python",
   "pygments_lexer": "ipython3",
   "version": "3.10.12"
  }
 },
 "nbformat": 4,
 "nbformat_minor": 2
}
