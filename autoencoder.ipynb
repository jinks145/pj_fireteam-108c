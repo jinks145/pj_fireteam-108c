{
 "cells": [
  {
   "cell_type": "markdown",
   "metadata": {},
   "source": [
    "# :Autoencoder Implementation"
   ]
  },
  {
   "cell_type": "markdown",
   "metadata": {},
   "source": [
    "To implement the autoencoder, we chose Pytorch for its similarity to numpy and compatibility to gpus."
   ]
  },
  {
   "cell_type": "code",
   "execution_count": 1,
   "metadata": {},
   "outputs": [
    {
     "name": "stderr",
     "output_type": "stream",
     "text": [
      "/usr/lib/python3/dist-packages/scipy/__init__.py:146: UserWarning: A NumPy version >=1.17.3 and <1.25.0 is required for this version of SciPy (detected version 1.25.2\n",
      "  warnings.warn(f\"A NumPy version >={np_minversion} and <{np_maxversion}\"\n"
     ]
    }
   ],
   "source": [
    "import numpy as np\n",
    "import torch\n",
    "from torch import nn\n",
    "from torch.utils.data import DataLoader, TensorDataset\n",
    "import pandas as pd\n",
    "from scipy.sparse import coo_matrix"
   ]
  },
  {
   "cell_type": "code",
   "execution_count": 2,
   "metadata": {},
   "outputs": [],
   "source": [
    "device = 'cuda:0' if torch.cuda.is_available() else 'cpu'"
   ]
  },
  {
   "cell_type": "markdown",
   "metadata": {},
   "source": [
    "### Test Matrix"
   ]
  },
  {
   "cell_type": "markdown",
   "metadata": {},
   "source": [
    "Test Matrix below was used to debug and test the performance before applying it to the actual matrix.\n",
    "The matrix is a sparse integer matrix of 100 users by 50 items."
   ]
  },
  {
   "cell_type": "code",
   "execution_count": 3,
   "metadata": {},
   "outputs": [],
   "source": [
    "# Set random seed for reproducibility\n",
    "np.random.seed(42)\n",
    "torch.manual_seed(42)\n",
    "\n",
    "# Create a user-item interaction matrix (100 users, 50 items) with sparsity\n",
    "num_users = 10000\n",
    "num_items = 500\n",
    "interaction_matrix = np.random.randint(0, 6, size=(num_users, num_items))  # Random interactions from 0 to 5\n",
    "\n",
    "# Introduce sparsity by setting a high percentage of interactions to 0\n",
    "sparsity = 0.8  # 80% of the interactions will be set to 0\n",
    "mask = np.random.rand(*interaction_matrix.shape) < sparsity\n",
    "interaction_matrix[mask] = 0\n"
   ]
  },
  {
   "cell_type": "code",
   "execution_count": 4,
   "metadata": {},
   "outputs": [],
   "source": [
    "def convert_df_coo(df):\n",
    "    user_mapping = {user_id: idx for idx, user_id in enumerate(df['User_id'].unique())}\n",
    "    book_mapping = {book_id: idx for idx, book_id in enumerate(df['book_id'].unique())}\n",
    "    \n",
    "    # Map the User_id and book_id columns to their integer indices\n",
    "    df['user_idx'] = df['User_id'].map(user_mapping)\n",
    "    df['book_idx'] = df['book_id'].map(book_mapping)\n",
    "    \n",
    "    # Create the COO matrix\n",
    "    row = df['user_idx'].values\n",
    "    col = df['book_idx'].values\n",
    "    data = df['review/score'].values\n",
    "    num_users = len(user_mapping)\n",
    "    num_books = len(book_mapping)\n",
    "    \n",
    "    coo = coo_matrix((data, (row, col)), shape=(num_users, num_books))\n",
    "    return coo"
   ]
  },
  {
   "cell_type": "code",
   "execution_count": 5,
   "metadata": {},
   "outputs": [],
   "source": [
    "class AutoEncoder(nn.Module):\n",
    "\tdef __init__(self, input_dim, bottleneck_size, device='cpu'):\n",
    "\t\tsuper(AutoEncoder, self).__init__()\n",
    "\t\tself.device = device\n",
    "\t\tself.encoder = nn.Sequential(\n",
    "\t\t\tnn.Linear(input_dim, 128),\n",
    "\t\t\tnn.ReLU(),\n",
    "\t\t\tnn.Linear(128, 64),\n",
    "\t\t\tnn.ReLU(),\n",
    "\t\t\tnn.Linear(64, bottleneck_size)\n",
    "\t\t)\n",
    "\t\tself.decoder = nn.Sequential(\n",
    "\t\t\tnn.Linear(bottleneck_size, 64),\n",
    "\t\t\tnn.ReLU(),\n",
    "\t\t\tnn.Linear(64, 128),\n",
    "\t\t\tnn.ReLU(),\n",
    "\t\t\tnn.Linear(128, input_dim)\n",
    "\t\t)\n",
    "\t\n",
    "\tdef forward(self, x):\n",
    "\t\tx = self.encoder(x)\n",
    "\t\tx = self.decoder(x)\n",
    "\t\treturn x\n",
    "\t\n",
    "\tdef fit(self, batches, n_epochs=100, min_delta=0.0001, lr=0.001, patience=10):\n",
    "\t\toptimizer = torch.optim.Adam(self.parameters(), lr=lr)\n",
    "\t\tcriterion = nn.MSELoss()\n",
    "\t\tbest_loss = float('inf')\n",
    "\t\tpatience_counter = 0\n",
    "\t\tepoch_losses = []\n",
    "\t\tepochs = []\n",
    "\n",
    "\t\tfor epoch in range(n_epochs):\n",
    "\t\t\tepoch_loss = 0.0\n",
    "\t\t\tfor batch in batches:\n",
    "\t\t\t\tbatch = batch[0].to(self.device)  # Move batch to device\n",
    "\t\t\t\toptimizer.zero_grad()\n",
    "\t\t\t\toutput = self.forward(batch)\n",
    "\t\t\t\tloss = criterion(output, batch)\n",
    "\t\t\t\tloss.backward()\n",
    "\t\t\t\toptimizer.step()\n",
    "\t\t\t\tepoch_loss += loss.item()\n",
    "\t\t\n",
    "\t\t\tepoch_loss /= len(batches)\n",
    "\n",
    "\t\t\tif epoch_loss < best_loss - min_delta:\n",
    "\t\t\t\tbest_loss = epoch_loss\n",
    "\t\t\t\tpatience_counter = 0\n",
    "\t\t\telse:\n",
    "\t\t\t\tpatience_counter += 1\n",
    "\n",
    "\t\t\tif patience_counter >= patience:\n",
    "\t\t\t\tprint(f\"Early stopping at epoch {epoch+1} with loss {epoch_loss:.4f}\")\n",
    "\t\t\t\tbreak\n",
    "\t\t\tepoch_losses.append(epoch_loss)\n",
    "\t\t\tepochs.append(epoch+1)\n",
    "\t\t\tprint(f'Epoch [{epoch+1}/{n_epochs}], Loss: {epoch_loss:.4f}')\n",
    "\t\treturn epochs, epoch_losses\n"
   ]
  },
  {
   "cell_type": "code",
   "execution_count": 6,
   "metadata": {},
   "outputs": [],
   "source": [
    "def fit_by_bottleneck(user_ratings: pd.DataFrame, device: torch.device, bottleneck: int = 10):\n",
    "\n",
    "    # Create the COO matrix\n",
    "    coo = convert_df_coo(user_ratings)\n",
    "    \n",
    "    dense_matrix = torch.tensor(coo.toarray(), dtype=torch.float32).to(device)\n",
    "    dataset = TensorDataset(dense_matrix)\n",
    "    model = AutoEncoder(dense_matrix.shape[1], bottleneck, device=device).to(device)\n",
    "    batch_size = 128\n",
    "    \n",
    "    batches = DataLoader(dataset, batch_size=batch_size, shuffle=True)\n",
    "    \n",
    "    epochs, losses = model.fit(batches, n_epochs=1000, lr=0.001, patience=20)\n",
    "    \n",
    "    pd.DataFrame({\"epochs\": epochs, \"training losses\": losses}).to_csv(f'sample_model/{bottleneck}.csv')\n",
    "    torch.save(model, f'models/model/model_k={bottleneck}.pt')\n",
    "    torch.save(model.state_dict(), f'models/weights/smodel_k_weights_{bottleneck}.pt')"
   ]
  },
  {
   "cell_type": "code",
   "execution_count": 7,
   "metadata": {},
   "outputs": [],
   "source": [
    "coo = coo_matrix(interaction_matrix, (num_users, num_items))\n",
    "dense_matrix = torch.tensor(coo.toarray(), dtype=torch.float32).to(device)\n",
    "dataset = TensorDataset(dense_matrix)\n",
    "bottleneck_size = 32\n",
    "batch_size = 128\n",
    "train_loader = DataLoader(dataset, batch_size=batch_size, shuffle=True)"
   ]
  },
  {
   "cell_type": "code",
   "execution_count": 8,
   "metadata": {},
   "outputs": [],
   "source": [
    "model = AutoEncoder(num_items, bottleneck_size, device=device).to(device)"
   ]
  },
  {
   "cell_type": "code",
   "execution_count": 9,
   "metadata": {},
   "outputs": [],
   "source": [
    "import matplotlib.pyplot as plt"
   ]
  },
  {
   "cell_type": "code",
   "execution_count": 10,
   "metadata": {},
   "outputs": [
    {
     "name": "stdout",
     "output_type": "stream",
     "text": [
      "Epoch [1/1000], Loss: 1.6104\n",
      "Epoch [2/1000], Loss: 1.5616\n",
      "Epoch [3/1000], Loss: 1.5416\n",
      "Epoch [4/1000], Loss: 1.5242\n",
      "Epoch [5/1000], Loss: 1.5112\n",
      "Epoch [6/1000], Loss: 1.5018\n",
      "Epoch [7/1000], Loss: 1.4950\n",
      "Epoch [8/1000], Loss: 1.4901\n",
      "Epoch [9/1000], Loss: 1.4873\n",
      "Epoch [10/1000], Loss: 1.4827\n",
      "Epoch [11/1000], Loss: 1.4786\n",
      "Epoch [12/1000], Loss: 1.4764\n",
      "Epoch [13/1000], Loss: 1.4720\n",
      "Epoch [14/1000], Loss: 1.4681\n",
      "Epoch [15/1000], Loss: 1.4650\n",
      "Epoch [16/1000], Loss: 1.4621\n",
      "Epoch [17/1000], Loss: 1.4599\n",
      "Epoch [18/1000], Loss: 1.4576\n",
      "Epoch [19/1000], Loss: 1.4567\n",
      "Epoch [20/1000], Loss: 1.4556\n",
      "Epoch [21/1000], Loss: 1.4549\n",
      "Epoch [22/1000], Loss: 1.4538\n",
      "Epoch [23/1000], Loss: 1.4534\n",
      "Epoch [24/1000], Loss: 1.4526\n",
      "Epoch [25/1000], Loss: 1.4526\n",
      "Epoch [26/1000], Loss: 1.4519\n",
      "Epoch [27/1000], Loss: 1.4514\n",
      "Epoch [28/1000], Loss: 1.4507\n",
      "Epoch [29/1000], Loss: 1.4504\n",
      "Epoch [30/1000], Loss: 1.4504\n",
      "Epoch [31/1000], Loss: 1.4476\n",
      "Epoch [32/1000], Loss: 1.4463\n",
      "Epoch [33/1000], Loss: 1.4457\n",
      "Epoch [34/1000], Loss: 1.4448\n",
      "Epoch [35/1000], Loss: 1.4451\n",
      "Epoch [36/1000], Loss: 1.4443\n",
      "Epoch [37/1000], Loss: 1.4431\n",
      "Epoch [38/1000], Loss: 1.4434\n",
      "Epoch [39/1000], Loss: 1.4431\n",
      "Epoch [40/1000], Loss: 1.4424\n",
      "Epoch [41/1000], Loss: 1.4423\n",
      "Epoch [42/1000], Loss: 1.4408\n",
      "Epoch [43/1000], Loss: 1.4411\n",
      "Epoch [44/1000], Loss: 1.4418\n",
      "Epoch [45/1000], Loss: 1.4409\n",
      "Epoch [46/1000], Loss: 1.4398\n",
      "Epoch [47/1000], Loss: 1.4393\n",
      "Epoch [48/1000], Loss: 1.4398\n",
      "Epoch [49/1000], Loss: 1.4387\n",
      "Epoch [50/1000], Loss: 1.4385\n",
      "Epoch [51/1000], Loss: 1.4376\n",
      "Epoch [52/1000], Loss: 1.4366\n",
      "Epoch [53/1000], Loss: 1.4378\n",
      "Epoch [54/1000], Loss: 1.4360\n",
      "Epoch [55/1000], Loss: 1.4364\n",
      "Epoch [56/1000], Loss: 1.4365\n",
      "Epoch [57/1000], Loss: 1.4357\n",
      "Epoch [58/1000], Loss: 1.4354\n",
      "Epoch [59/1000], Loss: 1.4357\n",
      "Epoch [60/1000], Loss: 1.4338\n",
      "Epoch [61/1000], Loss: 1.4335\n",
      "Epoch [62/1000], Loss: 1.4344\n",
      "Epoch [63/1000], Loss: 1.4333\n",
      "Epoch [64/1000], Loss: 1.4336\n",
      "Epoch [65/1000], Loss: 1.4323\n",
      "Epoch [66/1000], Loss: 1.4317\n",
      "Epoch [67/1000], Loss: 1.4305\n",
      "Epoch [68/1000], Loss: 1.4313\n",
      "Epoch [69/1000], Loss: 1.4315\n",
      "Epoch [70/1000], Loss: 1.4305\n",
      "Epoch [71/1000], Loss: 1.4303\n",
      "Epoch [72/1000], Loss: 1.4313\n",
      "Epoch [73/1000], Loss: 1.4299\n",
      "Epoch [74/1000], Loss: 1.4298\n",
      "Epoch [75/1000], Loss: 1.4287\n",
      "Epoch [76/1000], Loss: 1.4290\n",
      "Epoch [77/1000], Loss: 1.4283\n",
      "Epoch [78/1000], Loss: 1.4271\n",
      "Epoch [79/1000], Loss: 1.4284\n",
      "Epoch [80/1000], Loss: 1.4282\n",
      "Epoch [81/1000], Loss: 1.4270\n",
      "Epoch [82/1000], Loss: 1.4277\n",
      "Epoch [83/1000], Loss: 1.4284\n",
      "Epoch [84/1000], Loss: 1.4263\n",
      "Epoch [85/1000], Loss: 1.4262\n",
      "Epoch [86/1000], Loss: 1.4260\n",
      "Epoch [87/1000], Loss: 1.4254\n",
      "Epoch [88/1000], Loss: 1.4255\n",
      "Epoch [89/1000], Loss: 1.4251\n",
      "Epoch [90/1000], Loss: 1.4249\n",
      "Epoch [91/1000], Loss: 1.4244\n",
      "Epoch [92/1000], Loss: 1.4246\n",
      "Epoch [93/1000], Loss: 1.4241\n",
      "Epoch [94/1000], Loss: 1.4237\n",
      "Epoch [95/1000], Loss: 1.4232\n",
      "Epoch [96/1000], Loss: 1.4230\n",
      "Epoch [97/1000], Loss: 1.4214\n",
      "Epoch [98/1000], Loss: 1.4221\n",
      "Epoch [99/1000], Loss: 1.4229\n",
      "Epoch [100/1000], Loss: 1.4220\n",
      "Epoch [101/1000], Loss: 1.4209\n",
      "Epoch [102/1000], Loss: 1.4219\n",
      "Epoch [103/1000], Loss: 1.4211\n",
      "Epoch [104/1000], Loss: 1.4203\n",
      "Epoch [105/1000], Loss: 1.4205\n",
      "Epoch [106/1000], Loss: 1.4199\n",
      "Epoch [107/1000], Loss: 1.4194\n",
      "Epoch [108/1000], Loss: 1.4196\n",
      "Epoch [109/1000], Loss: 1.4193\n",
      "Epoch [110/1000], Loss: 1.4180\n",
      "Epoch [111/1000], Loss: 1.4181\n",
      "Epoch [112/1000], Loss: 1.4183\n",
      "Epoch [113/1000], Loss: 1.4177\n",
      "Epoch [114/1000], Loss: 1.4173\n",
      "Epoch [115/1000], Loss: 1.4181\n",
      "Epoch [116/1000], Loss: 1.4179\n",
      "Epoch [117/1000], Loss: 1.4170\n",
      "Epoch [118/1000], Loss: 1.4177\n",
      "Epoch [119/1000], Loss: 1.4162\n",
      "Epoch [120/1000], Loss: 1.4155\n",
      "Epoch [121/1000], Loss: 1.4169\n",
      "Epoch [122/1000], Loss: 1.4152\n",
      "Epoch [123/1000], Loss: 1.4149\n",
      "Epoch [124/1000], Loss: 1.4138\n",
      "Epoch [125/1000], Loss: 1.4146\n",
      "Epoch [126/1000], Loss: 1.4140\n",
      "Epoch [127/1000], Loss: 1.4148\n",
      "Epoch [128/1000], Loss: 1.4139\n",
      "Epoch [129/1000], Loss: 1.4136\n",
      "Epoch [130/1000], Loss: 1.4134\n",
      "Epoch [131/1000], Loss: 1.4136\n",
      "Epoch [132/1000], Loss: 1.4141\n",
      "Epoch [133/1000], Loss: 1.4137\n",
      "Epoch [134/1000], Loss: 1.4125\n",
      "Epoch [135/1000], Loss: 1.4128\n",
      "Epoch [136/1000], Loss: 1.4130\n",
      "Epoch [137/1000], Loss: 1.4128\n",
      "Epoch [138/1000], Loss: 1.4117\n",
      "Epoch [139/1000], Loss: 1.4113\n",
      "Epoch [140/1000], Loss: 1.4123\n",
      "Epoch [141/1000], Loss: 1.4116\n",
      "Epoch [142/1000], Loss: 1.4107\n",
      "Epoch [143/1000], Loss: 1.4115\n",
      "Epoch [144/1000], Loss: 1.4109\n",
      "Epoch [145/1000], Loss: 1.4101\n",
      "Epoch [146/1000], Loss: 1.4105\n",
      "Epoch [147/1000], Loss: 1.4104\n",
      "Epoch [148/1000], Loss: 1.4107\n",
      "Epoch [149/1000], Loss: 1.4099\n",
      "Epoch [150/1000], Loss: 1.4096\n",
      "Epoch [151/1000], Loss: 1.4092\n",
      "Epoch [152/1000], Loss: 1.4097\n",
      "Epoch [153/1000], Loss: 1.4091\n",
      "Epoch [154/1000], Loss: 1.4080\n",
      "Epoch [155/1000], Loss: 1.4092\n",
      "Epoch [156/1000], Loss: 1.4089\n",
      "Epoch [157/1000], Loss: 1.4088\n",
      "Epoch [158/1000], Loss: 1.4086\n",
      "Epoch [159/1000], Loss: 1.4083\n",
      "Epoch [160/1000], Loss: 1.4081\n",
      "Epoch [161/1000], Loss: 1.4080\n",
      "Epoch [162/1000], Loss: 1.4074\n",
      "Epoch [163/1000], Loss: 1.4067\n",
      "Epoch [164/1000], Loss: 1.4068\n",
      "Epoch [165/1000], Loss: 1.4071\n",
      "Epoch [166/1000], Loss: 1.4066\n",
      "Epoch [167/1000], Loss: 1.4071\n",
      "Epoch [168/1000], Loss: 1.4059\n",
      "Epoch [169/1000], Loss: 1.4071\n",
      "Epoch [170/1000], Loss: 1.4063\n",
      "Epoch [171/1000], Loss: 1.4065\n",
      "Epoch [172/1000], Loss: 1.4063\n",
      "Epoch [173/1000], Loss: 1.4055\n",
      "Epoch [174/1000], Loss: 1.4058\n",
      "Epoch [175/1000], Loss: 1.4051\n",
      "Epoch [176/1000], Loss: 1.4055\n",
      "Epoch [177/1000], Loss: 1.4053\n",
      "Epoch [178/1000], Loss: 1.4049\n",
      "Epoch [179/1000], Loss: 1.4051\n",
      "Epoch [180/1000], Loss: 1.4054\n",
      "Epoch [181/1000], Loss: 1.4042\n",
      "Epoch [182/1000], Loss: 1.4038\n",
      "Epoch [183/1000], Loss: 1.4044\n",
      "Epoch [184/1000], Loss: 1.4041\n",
      "Epoch [185/1000], Loss: 1.4040\n",
      "Epoch [186/1000], Loss: 1.4042\n",
      "Epoch [187/1000], Loss: 1.4041\n",
      "Epoch [188/1000], Loss: 1.4038\n",
      "Epoch [189/1000], Loss: 1.4033\n",
      "Epoch [190/1000], Loss: 1.4027\n",
      "Epoch [191/1000], Loss: 1.4032\n",
      "Epoch [192/1000], Loss: 1.4025\n",
      "Epoch [193/1000], Loss: 1.4027\n",
      "Epoch [194/1000], Loss: 1.4030\n",
      "Epoch [195/1000], Loss: 1.4025\n",
      "Epoch [196/1000], Loss: 1.4034\n",
      "Epoch [197/1000], Loss: 1.4022\n",
      "Epoch [198/1000], Loss: 1.4024\n",
      "Epoch [199/1000], Loss: 1.4024\n",
      "Epoch [200/1000], Loss: 1.4023\n",
      "Epoch [201/1000], Loss: 1.4009\n",
      "Epoch [202/1000], Loss: 1.4016\n",
      "Epoch [203/1000], Loss: 1.4019\n",
      "Epoch [204/1000], Loss: 1.4007\n",
      "Epoch [205/1000], Loss: 1.4017\n",
      "Epoch [206/1000], Loss: 1.4022\n",
      "Epoch [207/1000], Loss: 1.4017\n",
      "Epoch [208/1000], Loss: 1.4009\n",
      "Epoch [209/1000], Loss: 1.4015\n",
      "Epoch [210/1000], Loss: 1.4015\n",
      "Epoch [211/1000], Loss: 1.4010\n",
      "Epoch [212/1000], Loss: 1.4004\n",
      "Epoch [213/1000], Loss: 1.4005\n",
      "Epoch [214/1000], Loss: 1.4003\n",
      "Epoch [215/1000], Loss: 1.4008\n",
      "Epoch [216/1000], Loss: 1.4010\n",
      "Epoch [217/1000], Loss: 1.4001\n",
      "Epoch [218/1000], Loss: 1.4000\n",
      "Epoch [219/1000], Loss: 1.4002\n",
      "Epoch [220/1000], Loss: 1.3991\n",
      "Epoch [221/1000], Loss: 1.3996\n",
      "Epoch [222/1000], Loss: 1.3988\n",
      "Epoch [223/1000], Loss: 1.3995\n",
      "Epoch [224/1000], Loss: 1.3994\n",
      "Epoch [225/1000], Loss: 1.3993\n",
      "Epoch [226/1000], Loss: 1.3986\n",
      "Epoch [227/1000], Loss: 1.3988\n",
      "Epoch [228/1000], Loss: 1.3987\n",
      "Epoch [229/1000], Loss: 1.3991\n",
      "Epoch [230/1000], Loss: 1.3983\n",
      "Epoch [231/1000], Loss: 1.3987\n",
      "Epoch [232/1000], Loss: 1.3979\n",
      "Epoch [233/1000], Loss: 1.3979\n",
      "Epoch [234/1000], Loss: 1.3980\n",
      "Epoch [235/1000], Loss: 1.3978\n",
      "Epoch [236/1000], Loss: 1.3974\n",
      "Epoch [237/1000], Loss: 1.3969\n",
      "Epoch [238/1000], Loss: 1.3974\n",
      "Epoch [239/1000], Loss: 1.3976\n",
      "Epoch [240/1000], Loss: 1.3976\n",
      "Epoch [241/1000], Loss: 1.3973\n",
      "Epoch [242/1000], Loss: 1.3964\n",
      "Epoch [243/1000], Loss: 1.3968\n",
      "Epoch [244/1000], Loss: 1.3963\n",
      "Epoch [245/1000], Loss: 1.3969\n",
      "Epoch [246/1000], Loss: 1.3965\n",
      "Epoch [247/1000], Loss: 1.3961\n",
      "Epoch [248/1000], Loss: 1.3962\n",
      "Epoch [249/1000], Loss: 1.3958\n",
      "Epoch [250/1000], Loss: 1.3965\n",
      "Epoch [251/1000], Loss: 1.3947\n",
      "Epoch [252/1000], Loss: 1.3958\n",
      "Epoch [253/1000], Loss: 1.3952\n",
      "Epoch [254/1000], Loss: 1.3951\n",
      "Epoch [255/1000], Loss: 1.3950\n",
      "Epoch [256/1000], Loss: 1.3944\n",
      "Epoch [257/1000], Loss: 1.3954\n",
      "Epoch [258/1000], Loss: 1.3949\n",
      "Epoch [259/1000], Loss: 1.3946\n",
      "Epoch [260/1000], Loss: 1.3946\n",
      "Epoch [261/1000], Loss: 1.3942\n",
      "Epoch [262/1000], Loss: 1.3948\n",
      "Epoch [263/1000], Loss: 1.3944\n",
      "Epoch [264/1000], Loss: 1.3935\n",
      "Epoch [265/1000], Loss: 1.3933\n",
      "Epoch [266/1000], Loss: 1.3936\n",
      "Epoch [267/1000], Loss: 1.3941\n",
      "Epoch [268/1000], Loss: 1.3938\n",
      "Epoch [269/1000], Loss: 1.3931\n",
      "Epoch [270/1000], Loss: 1.3933\n",
      "Epoch [271/1000], Loss: 1.3938\n",
      "Epoch [272/1000], Loss: 1.3926\n",
      "Epoch [273/1000], Loss: 1.3941\n",
      "Epoch [274/1000], Loss: 1.3931\n",
      "Epoch [275/1000], Loss: 1.3924\n",
      "Epoch [276/1000], Loss: 1.3936\n",
      "Epoch [277/1000], Loss: 1.3928\n",
      "Epoch [278/1000], Loss: 1.3931\n",
      "Epoch [279/1000], Loss: 1.3926\n",
      "Epoch [280/1000], Loss: 1.3922\n",
      "Epoch [281/1000], Loss: 1.3924\n",
      "Epoch [282/1000], Loss: 1.3916\n",
      "Epoch [283/1000], Loss: 1.3912\n",
      "Epoch [284/1000], Loss: 1.3911\n",
      "Epoch [285/1000], Loss: 1.3906\n",
      "Epoch [286/1000], Loss: 1.3909\n",
      "Epoch [287/1000], Loss: 1.3917\n",
      "Epoch [288/1000], Loss: 1.3912\n",
      "Epoch [289/1000], Loss: 1.3904\n",
      "Epoch [290/1000], Loss: 1.3906\n",
      "Epoch [291/1000], Loss: 1.3907\n",
      "Epoch [292/1000], Loss: 1.3911\n",
      "Epoch [293/1000], Loss: 1.3912\n",
      "Epoch [294/1000], Loss: 1.3912\n",
      "Epoch [295/1000], Loss: 1.3899\n",
      "Epoch [296/1000], Loss: 1.3903\n",
      "Epoch [297/1000], Loss: 1.3903\n",
      "Epoch [298/1000], Loss: 1.3900\n",
      "Epoch [299/1000], Loss: 1.3903\n",
      "Epoch [300/1000], Loss: 1.3903\n",
      "Epoch [301/1000], Loss: 1.3894\n",
      "Epoch [302/1000], Loss: 1.3905\n",
      "Epoch [303/1000], Loss: 1.3903\n",
      "Epoch [304/1000], Loss: 1.3894\n",
      "Epoch [305/1000], Loss: 1.3897\n",
      "Epoch [306/1000], Loss: 1.3895\n",
      "Epoch [307/1000], Loss: 1.3890\n",
      "Epoch [308/1000], Loss: 1.3897\n",
      "Epoch [309/1000], Loss: 1.3893\n",
      "Epoch [310/1000], Loss: 1.3889\n",
      "Epoch [311/1000], Loss: 1.3894\n",
      "Epoch [312/1000], Loss: 1.3881\n",
      "Epoch [313/1000], Loss: 1.3887\n",
      "Epoch [314/1000], Loss: 1.3887\n",
      "Epoch [315/1000], Loss: 1.3897\n",
      "Epoch [316/1000], Loss: 1.3887\n",
      "Epoch [317/1000], Loss: 1.3887\n",
      "Epoch [318/1000], Loss: 1.3884\n",
      "Epoch [319/1000], Loss: 1.3878\n",
      "Epoch [320/1000], Loss: 1.3891\n",
      "Epoch [321/1000], Loss: 1.3882\n",
      "Epoch [322/1000], Loss: 1.3880\n",
      "Epoch [323/1000], Loss: 1.3875\n",
      "Epoch [324/1000], Loss: 1.3877\n",
      "Epoch [325/1000], Loss: 1.3876\n",
      "Epoch [326/1000], Loss: 1.3884\n",
      "Epoch [327/1000], Loss: 1.3880\n",
      "Epoch [328/1000], Loss: 1.3879\n",
      "Epoch [329/1000], Loss: 1.3875\n",
      "Epoch [330/1000], Loss: 1.3878\n",
      "Epoch [331/1000], Loss: 1.3872\n",
      "Epoch [332/1000], Loss: 1.3878\n",
      "Epoch [333/1000], Loss: 1.3881\n",
      "Epoch [334/1000], Loss: 1.3876\n",
      "Epoch [335/1000], Loss: 1.3867\n",
      "Epoch [336/1000], Loss: 1.3867\n",
      "Epoch [337/1000], Loss: 1.3864\n",
      "Epoch [338/1000], Loss: 1.3878\n",
      "Epoch [339/1000], Loss: 1.3871\n",
      "Epoch [340/1000], Loss: 1.3856\n",
      "Epoch [341/1000], Loss: 1.3864\n",
      "Epoch [342/1000], Loss: 1.3859\n",
      "Epoch [343/1000], Loss: 1.3856\n",
      "Epoch [344/1000], Loss: 1.3858\n",
      "Epoch [345/1000], Loss: 1.3864\n",
      "Epoch [346/1000], Loss: 1.3864\n",
      "Epoch [347/1000], Loss: 1.3861\n",
      "Epoch [348/1000], Loss: 1.3860\n",
      "Epoch [349/1000], Loss: 1.3866\n",
      "Early stopping at epoch 350 with loss 1.3857\n"
     ]
    },
    {
     "data": {
      "image/png": "[encoded data removed]",
      "text/plain": [
       "<Figure size 432x288 with 1 Axes>"
      ]
     },
     "metadata": {
      "needs_background": "light"
     },
     "output_type": "display_data"
    }
   ],
   "source": [
    "# Train the model\n",
    "epochs, epoch_losses = model.fit(train_loader, n_epochs=1000, lr=0.001, patience=10)\n",
    "\n",
    "# Plot the training loss over epochs\n",
    "plt.plot(epochs, epoch_losses, label='Training Loss')\n",
    "plt.xlabel('Epoch')\n",
    "plt.ylabel('Loss')\n",
    "plt.title('Training Loss over Epochs')\n",
    "plt.legend()\n",
    "plt.show()"
   ]
  },
  {
   "cell_type": "markdown",
   "metadata": {},
   "source": [
    "### Training the autoencoders"
   ]
  },
  {
   "cell_type": "markdown",
   "metadata": {},
   "source": [
    "We then trained the model using LambdaLab's nvidia A10 gpu VM instance. "
   ]
  },
  {
   "cell_type": "code",
   "execution_count": 11,
   "metadata": {},
   "outputs": [],
   "source": [
    "model = None"
   ]
  },
  {
   "cell_type": "markdown",
   "metadata": {},
   "source": [
    "Note: `testing_mode` is a checkpoint variable to signify that we are testing the model on the local end. If set to false, it will train the model."
   ]
  },
  {
   "cell_type": "code",
   "execution_count": 12,
   "metadata": {},
   "outputs": [],
   "source": [
    "testing_mode = True"
   ]
  },
  {
   "cell_type": "code",
   "execution_count": 13,
   "metadata": {},
   "outputs": [],
   "source": [
    "user_ratings = pd.read_csv('sparse_matrix.csv')\n",
    "# user_ratings = user_ratings.fillna(0)"
   ]
  },
  {
   "cell_type": "code",
   "execution_count": 14,
   "metadata": {},
   "outputs": [
    {
     "data": {
      "text/html": [
       "<div>\n",
       "<style scoped>\n",
       "    .dataframe tbody tr th:only-of-type {\n",
       "        vertical-align: middle;\n",
       "    }\n",
       "\n",
       "    .dataframe tbody tr th {\n",
       "        vertical-align: top;\n",
       "    }\n",
       "\n",
       "    .dataframe thead th {\n",
       "        text-align: right;\n",
       "    }\n",
       "</style>\n",
       "<table border=\"1\" class=\"dataframe\">\n",
       "  <thead>\n",
       "    <tr style=\"text-align: right;\">\n",
       "      <th></th>\n",
       "      <th>Unnamed: 0</th>\n",
       "      <th>User_id</th>\n",
       "      <th>review/score</th>\n",
       "      <th>book_id</th>\n",
       "      <th>user_idx</th>\n",
       "      <th>book_idx</th>\n",
       "    </tr>\n",
       "  </thead>\n",
       "  <tbody>\n",
       "    <tr>\n",
       "      <th>0</th>\n",
       "      <td>1</td>\n",
       "      <td>A30TK6U7DNS82R</td>\n",
       "      <td>5.0</td>\n",
       "      <td>0826414346</td>\n",
       "      <td>0</td>\n",
       "      <td>0</td>\n",
       "    </tr>\n",
       "    <tr>\n",
       "      <th>1</th>\n",
       "      <td>3</td>\n",
       "      <td>A2MVUWT453QH61</td>\n",
       "      <td>4.0</td>\n",
       "      <td>0826414346</td>\n",
       "      <td>1</td>\n",
       "      <td>0</td>\n",
       "    </tr>\n",
       "    <tr>\n",
       "      <th>2</th>\n",
       "      <td>5</td>\n",
       "      <td>A2F6NONFUDB6UK</td>\n",
       "      <td>4.0</td>\n",
       "      <td>0826414346</td>\n",
       "      <td>2</td>\n",
       "      <td>0</td>\n",
       "    </tr>\n",
       "    <tr>\n",
       "      <th>3</th>\n",
       "      <td>6</td>\n",
       "      <td>A14OJS0VWMOSWO</td>\n",
       "      <td>5.0</td>\n",
       "      <td>0826414346</td>\n",
       "      <td>3</td>\n",
       "      <td>0</td>\n",
       "    </tr>\n",
       "    <tr>\n",
       "      <th>4</th>\n",
       "      <td>11</td>\n",
       "      <td>A373VVEU6Z9M0N</td>\n",
       "      <td>5.0</td>\n",
       "      <td>0829814000</td>\n",
       "      <td>4</td>\n",
       "      <td>1</td>\n",
       "    </tr>\n",
       "    <tr>\n",
       "      <th>...</th>\n",
       "      <td>...</td>\n",
       "      <td>...</td>\n",
       "      <td>...</td>\n",
       "      <td>...</td>\n",
       "      <td>...</td>\n",
       "      <td>...</td>\n",
       "    </tr>\n",
       "    <tr>\n",
       "      <th>406027</th>\n",
       "      <td>34950</td>\n",
       "      <td>A2PK3NTC9RMEF4</td>\n",
       "      <td>3.0</td>\n",
       "      <td>0786182431</td>\n",
       "      <td>1288</td>\n",
       "      <td>92323</td>\n",
       "    </tr>\n",
       "    <tr>\n",
       "      <th>406028</th>\n",
       "      <td>34958</td>\n",
       "      <td>A32ZKBXJJ45BRY</td>\n",
       "      <td>3.0</td>\n",
       "      <td>B00085PL4C</td>\n",
       "      <td>492</td>\n",
       "      <td>92324</td>\n",
       "    </tr>\n",
       "    <tr>\n",
       "      <th>406029</th>\n",
       "      <td>34967</td>\n",
       "      <td>A25JH6CO4DVINS</td>\n",
       "      <td>4.0</td>\n",
       "      <td>0255364520</td>\n",
       "      <td>405</td>\n",
       "      <td>92325</td>\n",
       "    </tr>\n",
       "    <tr>\n",
       "      <th>406030</th>\n",
       "      <td>34969</td>\n",
       "      <td>AOFGOUMXLMVZS</td>\n",
       "      <td>4.0</td>\n",
       "      <td>B000NSLVCU</td>\n",
       "      <td>5076</td>\n",
       "      <td>92326</td>\n",
       "    </tr>\n",
       "    <tr>\n",
       "      <th>406031</th>\n",
       "      <td>34970</td>\n",
       "      <td>A1SMUB9ASL5L9Y</td>\n",
       "      <td>4.0</td>\n",
       "      <td>B000NSLVCU</td>\n",
       "      <td>3220</td>\n",
       "      <td>92326</td>\n",
       "    </tr>\n",
       "  </tbody>\n",
       "</table>\n",
       "<p>406032 rows × 6 columns</p>\n",
       "</div>"
      ],
      "text/plain": [
       "        Unnamed: 0         User_id  review/score     book_id  user_idx  \\\n",
       "0                1  A30TK6U7DNS82R           5.0  0826414346         0   \n",
       "1                3  A2MVUWT453QH61           4.0  0826414346         1   \n",
       "2                5  A2F6NONFUDB6UK           4.0  0826414346         2   \n",
       "3                6  A14OJS0VWMOSWO           5.0  0826414346         3   \n",
       "4               11  A373VVEU6Z9M0N           5.0  0829814000         4   \n",
       "...            ...             ...           ...         ...       ...   \n",
       "406027       34950  A2PK3NTC9RMEF4           3.0  0786182431      1288   \n",
       "406028       34958  A32ZKBXJJ45BRY           3.0  B00085PL4C       492   \n",
       "406029       34967  A25JH6CO4DVINS           4.0  0255364520       405   \n",
       "406030       34969   AOFGOUMXLMVZS           4.0  B000NSLVCU      5076   \n",
       "406031       34970  A1SMUB9ASL5L9Y           4.0  B000NSLVCU      3220   \n",
       "\n",
       "        book_idx  \n",
       "0              0  \n",
       "1              0  \n",
       "2              0  \n",
       "3              0  \n",
       "4              1  \n",
       "...          ...  \n",
       "406027     92323  \n",
       "406028     92324  \n",
       "406029     92325  \n",
       "406030     92326  \n",
       "406031     92326  \n",
       "\n",
       "[406032 rows x 6 columns]"
      ]
     },
     "execution_count": 14,
     "metadata": {},
     "output_type": "execute_result"
    }
   ],
   "source": [
    "user_ratings"
   ]
  },
  {
   "cell_type": "code",
   "execution_count": 15,
   "metadata": {},
   "outputs": [
    {
     "data": {
      "text/plain": [
       "6842"
      ]
     },
     "execution_count": 15,
     "metadata": {},
     "output_type": "execute_result"
    }
   ],
   "source": [
    "user_ratings['User_id'].unique().shape[0]"
   ]
  },
  {
   "cell_type": "markdown",
   "metadata": {},
   "source": [
    "After training on colab, we utilized the pytorch imports the weights and the model architecture into the \n",
    "model."
   ]
  },
  {
   "cell_type": "markdown",
   "metadata": {},
   "source": [
    "To see if there is a significant difference between bottlenecks, we decided to run it with different bottlenecks."
   ]
  },
  {
   "cell_type": "code",
   "execution_count": 16,
   "metadata": {},
   "outputs": [],
   "source": [
    "bottlenecks = [8, 16, 32, 64, 128]"
   ]
  },
  {
   "cell_type": "markdown",
   "metadata": {},
   "source": [
    "For training, we used the batch size of 128 and parameters of 1000 epoch, learning rate of 0.001."
   ]
  },
  {
   "cell_type": "code",
   "execution_count": 17,
   "metadata": {},
   "outputs": [
    {
     "name": "stdout",
     "output_type": "stream",
     "text": [
      "Tested\n"
     ]
    }
   ],
   "source": [
    "import os\n",
    "if testing_mode:\n",
    "\tprint('Tested')\n",
    "# check if folder exists\n",
    "# elif os.path.isdir('models'):\n",
    "# \tmodel = torch.load('amazon_model.pt')\n",
    "# \tmodel.load_state_dict(torch.load('amazon_model_weights.pt'))\n",
    "else:\n",
    "    batch_size = 128\n",
    "    for bottleneck in bottlenecks:\n",
    "        print(f\"=== training k={bottleneck} model ===\\n\")\n",
    "        os.makedirs('models', exist_ok=True)\n",
    "        os.makedirs('models/weights', exist_ok=True)\n",
    "        os.makedirs('models/model', exist_ok=True)\n",
    "        fit_by_bottleneck(user_ratings, device, bottleneck)\n",
    "        print(f\"=== training k={bottleneck} model complete===\")\n"
   ]
  },
  {
   "cell_type": "code",
   "execution_count": 18,
   "metadata": {},
   "outputs": [],
   "source": [
    "torch.cuda.empty_cache()"
   ]
  },
  {
   "cell_type": "code",
   "execution_count": 19,
   "metadata": {},
   "outputs": [],
   "source": [
    "from numpy import linalg"
   ]
  },
  {
   "cell_type": "code",
   "execution_count": 20,
   "metadata": {},
   "outputs": [],
   "source": [
    "# def test_sample_model(model: AutoEncoder, interaction_matrix: pd.DataFrame, device: torch.device, sample_size: int = 10):\n",
    "# \tmodel.eval()\n",
    "\t\n",
    "# \tsampled = interaction_matrix.sample(sample_size)\n",
    "# \tdisplay(sampled)\n",
    "# \ttested = sampled.apply(lambda row: mask_test_model(model, 0.2, torch.tensor(row.to_numpy(), dtype=torch.float32, device=device)[0], device), axis=0).to_numpy()\n",
    "# \t# s = torch.tensor(sampled)\n",
    "# \treturn linalg.norm(sampled.to_numpy() - tested, ord='fro'), tested"
   ]
  },
  {
   "cell_type": "markdown",
   "metadata": {},
   "source": [
    "## Model Performance "
   ]
  },
  {
   "cell_type": "markdown",
   "metadata": {},
   "source": [
    "Now, we can test the performance for each model"
   ]
  },
  {
   "cell_type": "code",
   "execution_count": 50,
   "metadata": {},
   "outputs": [],
   "source": [
    "def get_mappings(df, user_col='User_id', book_col='book_id'):\n",
    "    \"\"\"\n",
    "    Generate mappings from user and book labels to integer indices.\n",
    "    \n",
    "    Parameters:\n",
    "    - df (pd.DataFrame): DataFrame containing user and book columns.\n",
    "    - user_col (str): Name of the user column in the DataFrame.\n",
    "    - book_col (str): Name of the book column in the DataFrame.\n",
    "    \n",
    "    Returns:\n",
    "    - user_mapping (dict): Mapping from user labels to integer indices.\n",
    "    - book_mapping (dict): Mapping from book labels to integer indices.\n",
    "    \"\"\"\n",
    "    user_mapping = {user_id: idx for idx, user_id in enumerate(df[user_col].unique())}\n",
    "    book_mapping = {book_id: idx for idx, book_id in enumerate(df[book_col].unique())}\n",
    "    \n",
    "    return user_mapping, book_mapping\n"
   ]
  },
  {
   "cell_type": "code",
   "execution_count": 56,
   "metadata": {},
   "outputs": [],
   "source": [
    "def get_value_from_coo(coo, user_label, book_label, user_mapping, book_mapping):\n",
    "    \"\"\"\n",
    "    Get the value from a COO matrix using user and book labels.\n",
    "    \n",
    "    Parameters:\n",
    "    - coo (coo_matrix): The COO matrix.\n",
    "    - user_label (str): The user label.\n",
    "    - book_label (str): The book label.\n",
    "    - user_mapping (dict): Mapping from user labels to integer indices.\n",
    "    - book_mapping (dict): Mapping from book labels to integer indices.\n",
    "    \n",
    "    Returns:\n",
    "    - value (float or None): The value from the COO matrix, or None if not found.\n",
    "    \"\"\"\n",
    "    user_idx = user_mapping.get(user_label)\n",
    "    book_idx = book_mapping.get(book_label)\n",
    "    if user_idx is not None and book_idx is not None:\n",
    "        # Convert to CSR format to make element access efficient\n",
    "        coo_csr = coo.tocsr()\n",
    "        return coo_csr[user_idx, book_idx]\n",
    "    else:\n",
    "        return None\n"
   ]
  },
  {
   "cell_type": "code",
   "execution_count": 21,
   "metadata": {},
   "outputs": [],
   "source": [
    "def mask_sample(tensor: torch.Tensor, mask_fraction: float, device: torch.device):\n",
    "    tensor = tensor.to(device)\n",
    "    masked_tensor = tensor.clone()\n",
    "\n",
    "    # Identify non-zero elements in the tensor\n",
    "    non_zero_indices = (tensor != 0).nonzero(as_tuple=False)\n",
    "\n",
    "    # Determine the number of elements to mask\n",
    "    num_non_zeros = non_zero_indices.size(0)\n",
    "    num_to_mask = int(mask_fraction * num_non_zeros)\n",
    "\n",
    "    if num_to_mask > 0:\n",
    "        # Randomly select indices to mask\n",
    "        mask_indices = torch.randperm(num_non_zeros)[:num_to_mask]\n",
    "\n",
    "        # Apply the mask\n",
    "        masked_tensor[non_zero_indices[mask_indices, 0], non_zero_indices[mask_indices, 1]] = 0\n",
    "\n",
    "    return masked_tensor"
   ]
  },
  {
   "cell_type": "code",
   "execution_count": 28,
   "metadata": {},
   "outputs": [],
   "source": [
    "def test_sample_model(model: nn.Module, user_ratings: pd.DataFrame, device: torch.device):\n",
    "    model.eval()\n",
    "    sample_coo = convert_df_coo(user_ratings)\n",
    "    \n",
    "    # Convert the COO matrix to a dense tensor\n",
    "    sample_tensor = torch.tensor(sample_coo.toarray(), dtype=torch.float32, device=device)\n",
    "    \n",
    "    # Mask the sample tensor\n",
    "    masked_sample = mask_sample(sample_tensor, 0.2, device)\n",
    "    \n",
    "    # Get the model's predictions\n",
    "    with torch.no_grad():\n",
    "        result_tensor = model(masked_sample).cpu().detach().numpy()\n",
    "    \n",
    "    # Extract the non-zero elements from the result tensor\n",
    "    result_values = result_tensor[sample_coo.row, sample_coo.col]\n",
    "    \n",
    "    # Create the result COO matrix using the same row and column indices\n",
    "    result_coo = coo_matrix((result_values, (sample_coo.row, sample_coo.col)), shape=sample_coo.shape)\n",
    "    \n",
    "    # Calculate the RMSE\n",
    "    mse = np.mean((sample_tensor.cpu().numpy() - result_tensor) ** 2)\n",
    "    loss = np.sqrt(mse)\n",
    "    \n",
    "    return loss, result_coo, sample_coo"
   ]
  },
  {
   "cell_type": "code",
   "execution_count": 29,
   "metadata": {},
   "outputs": [],
   "source": [
    "def test_bottleneck(user_ratings: pd.DataFrame, device: torch.device, bottleneck: int = 10):\n",
    "    print(f'Testing bottleneck {bottleneck}')\n",
    "    model = torch.load(f'models/model/model_k={bottleneck}.pt')\n",
    "    model.load_state_dict(torch.load(f'models/weights/smodel_k_weights_{bottleneck}.pt'))\n",
    "    return test_sample_model(model, user_ratings, device)"
   ]
  },
  {
   "cell_type": "markdown",
   "metadata": {},
   "source": [
    "### Results"
   ]
  },
  {
   "cell_type": "markdown",
   "metadata": {},
   "source": [
    "### Training Loss"
   ]
  },
  {
   "cell_type": "code",
   "execution_count": 30,
   "metadata": {},
   "outputs": [],
   "source": [
    "import matplotlib.pyplot as plt\n",
    "def plot_training_loss(bottleneck: int):\n",
    "\tloss = pd.read_csv(f'models/training_losses/{bottleneck}.csv')\n",
    "\tplt.plot(loss['epochs'], loss['training losses'])\n",
    "\tplt.title(f'Training Loss for Bottleneck Size {bottleneck}')\n",
    "\tplt.xlabel('Epoch')\n",
    "\tplt.ylabel('Loss')\n",
    "\t"
   ]
  },
  {
   "cell_type": "markdown",
   "metadata": {},
   "source": [
    "For each bottleneck, we found the training loss as show below:"
   ]
  },
  {
   "cell_type": "code",
   "execution_count": 31,
   "metadata": {},
   "outputs": [
    {
     "data": {
      "image/png": "[encoded data removed]",
      "text/plain": [
       "<Figure size 432x288 with 1 Axes>"
      ]
     },
     "metadata": {
      "needs_background": "light"
     },
     "output_type": "display_data"
    },
    {
     "data": {
      "image/png": "[encoded data removed]",
      "text/plain": [
       "<Figure size 432x288 with 1 Axes>"
      ]
     },
     "metadata": {
      "needs_background": "light"
     },
     "output_type": "display_data"
    },
    {
     "data": {
      "image/png": "[encoded data removed]",
      "text/plain": [
       "<Figure size 432x288 with 1 Axes>"
      ]
     },
     "metadata": {
      "needs_background": "light"
     },
     "output_type": "display_data"
    },
    {
     "data": {
      "image/png": "[encoded data removed]",
      "text/plain": [
       "<Figure size 432x288 with 1 Axes>"
      ]
     },
     "metadata": {
      "needs_background": "light"
     },
     "output_type": "display_data"
    },
    {
     "data": {
      "image/png": "[encoded data removed]",
      "text/plain": [
       "<Figure size 432x288 with 1 Axes>"
      ]
     },
     "metadata": {
      "needs_background": "light"
     },
     "output_type": "display_data"
    }
   ],
   "source": [
    "fig, ax = plt.subplots()\n",
    "for bottleneck in bottlenecks:\n",
    "\t\n",
    "\tplot_training_loss(bottleneck)\n",
    "\tplt.show()"
   ]
  },
  {
   "cell_type": "markdown",
   "metadata": {},
   "source": [
    "### Performance"
   ]
  },
  {
   "cell_type": "markdown",
   "metadata": {},
   "source": [
    "We then tested the performances on each bottleneck."
   ]
  },
  {
   "cell_type": "code",
   "execution_count": 32,
   "metadata": {},
   "outputs": [],
   "source": [
    "# sample = user_ratings.sample(100)"
   ]
  },
  {
   "cell_type": "markdown",
   "metadata": {},
   "source": [
    "We used the masking technique on the rows for each bottleneck."
   ]
  },
  {
   "cell_type": "code",
   "execution_count": 33,
   "metadata": {},
   "outputs": [
    {
     "name": "stdout",
     "output_type": "stream",
     "text": [
      "Testing bottleneck 8\n",
      "Testing bottleneck 16\n",
      "Testing bottleneck 32\n",
      "Testing bottleneck 64\n",
      "Testing bottleneck 128\n"
     ]
    }
   ],
   "source": [
    "bottleneck_results = [test_bottleneck(user_ratings, device, k) for k in bottlenecks]\n",
    "# bottleneck_results = test_bottleneck(user_ratings, device, 5)"
   ]
  },
  {
   "cell_type": "markdown",
   "metadata": {},
   "source": [
    "counted how many rows that match the original one. The resulting `coo_matrix` shows"
   ]
  },
  {
   "cell_type": "code",
   "execution_count": 54,
   "metadata": {},
   "outputs": [],
   "source": [
    "user_mapping, book_mapping = get_mappings(user_ratings)"
   ]
  },
  {
   "cell_type": "code",
   "execution_count": 64,
   "metadata": {},
   "outputs": [
    {
     "name": "stdout",
     "output_type": "stream",
     "text": [
      "RMSE: 0.1029\n",
      "Predicted for user 'A30TK6U7DNS82R' and book '0826414346': 0.2544199228286743\n",
      "RMSE: 0.1021\n",
      "Predicted for user 'A30TK6U7DNS82R' and book '0826414346': 2.6134073734283447\n",
      "RMSE: 0.1024\n",
      "Predicted for user 'A30TK6U7DNS82R' and book '0826414346': 1.9932940006256104\n",
      "RMSE: 0.1044\n",
      "Predicted for user 'A30TK6U7DNS82R' and book '0826414346': 0.38780686259269714\n",
      "RMSE: 0.1137\n",
      "Predicted for user 'A30TK6U7DNS82R' and book '0826414346': 0.028352534398436546\n"
     ]
    }
   ],
   "source": [
    "# performance_results = pd.DataFrame(columns=['RMSE', 'Non-Zero Count'])\n",
    "for result in bottleneck_results:\n",
    "    print(f'RMSE: {result[0]:.4f}')\n",
    "    user_label = 'A30TK6U7DNS82R'\n",
    "    book_label = '0826414346'\n",
    "    value = get_value_from_coo(result[1], user_label, book_label, user_mapping, book_mapping)\n",
    "    print(f\"Predicted for user '{user_label}' and book '{book_label}': {value}\")\n"
   ]
  },
  {
   "cell_type": "code",
   "execution_count": 57,
   "metadata": {},
   "outputs": [
    {
     "name": "stdout",
     "output_type": "stream",
     "text": [
      "Value for user 'A30TK6U7DNS82R' and book '0826414346': 3\n"
     ]
    }
   ],
   "source": [
    "user_label = 'A30TK6U7DNS82R'\n",
    "book_label = '0826414346'\n",
    "value = get_value_from_coo(coo, user_label, book_label, user_mapping, book_mapping)\n",
    "print(f\"Value for user '{user_label}' and book '{book_label}': {value}\")"
   ]
  },
  {
   "cell_type": "markdown",
   "metadata": {},
   "source": [
    "So, the RMSE, the trainig loss and inference in the sample reveals bottleneck size of 16 is the optimal choice."
   ]
  },
  {
   "cell_type": "code",
   "execution_count": 66,
   "metadata": {},
   "outputs": [],
   "source": [
    "test16 = True"
   ]
  },
  {
   "cell_type": "code",
   "execution_count": 71,
   "metadata": {},
   "outputs": [],
   "source": [
    "import pickle\n",
    "if not test16:\n",
    "    b16result = bottleneck_results[1]\n",
    "    pickle.dump(b16result, open('k=16.pkl', 'wb'))\n",
    "else:\n",
    "    file = open('k=16.pkl', 'rb')\n",
    "    b16result = pickle.load(file)\n",
    "    "
   ]
  },
  {
   "cell_type": "code",
   "execution_count": 72,
   "metadata": {},
   "outputs": [
    {
     "data": {
      "text/plain": [
       "(0.10208989,\n",
       " <6842x92327 sparse matrix of type '<class 'numpy.float32'>'\n",
       " \twith 406032 stored elements in COOrdinate format>,\n",
       " <6842x92327 sparse matrix of type '<class 'numpy.float64'>'\n",
       " \twith 406032 stored elements in COOrdinate format>)"
      ]
     },
     "execution_count": 72,
     "metadata": {},
     "output_type": "execute_result"
    }
   ],
   "source": [
    "b16result"
   ]
  },
  {
   "cell_type": "markdown",
   "metadata": {},
   "source": [
    "### Denoising Autoencoder"
   ]
  },
  {
   "cell_type": "markdown",
   "metadata": {},
   "source": [
    "### PCA and k-means clustering"
   ]
  },
  {
   "cell_type": "markdown",
   "metadata": {},
   "source": [
    "So, the data analyis"
   ]
  }
 ],
 "metadata": {
  "kernelspec": {
   "display_name": "Python 3 (ipykernel)",
   "language": "python",
   "name": "python3"
  },
  "language_info": {
   "codemirror_mode": {
    "name": "ipython",
    "version": 3
   },
   "file_extension": ".py",
   "mimetype": "text/x-python",
   "name": "python",
   "nbconvert_exporter": "python",
   "pygments_lexer": "ipython3",
   "version": "3.10.12"
  }
 },
 "nbformat": 4,
 "nbformat_minor": 2
}
