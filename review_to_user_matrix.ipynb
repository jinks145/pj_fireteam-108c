{
 "cells": [
  {
   "cell_type": "code",
   "execution_count": null,
   "metadata": {},
   "outputs": [],
   "source": [
    "import pandas as pd\n",
    "import pymysql\n",
    "from sqlalchemy import create_engine"
   ]
  },
  {
   "cell_type": "code",
   "execution_count": null,
   "metadata": {},
   "outputs": [],
   "source": [
    "import numpy as np"
   ]
  },
  {
   "cell_type": "code",
   "execution_count": null,
   "metadata": {},
   "outputs": [],
   "source": [
    "host = 'fireteam108c-db.ctq6oauek6z5.us-east-2.rds.amazonaws.com:3306'\n",
    "user = 'admin108c'\n",
    "password = 'fireteam108c'\n",
    "database = 'amazon_books'"
   ]
  },
  {
   "cell_type": "code",
   "execution_count": null,
   "metadata": {},
   "outputs": [],
   "source": [
    "engine = create_engine(f'mysql+pymysql://{user}:{password}@{host}/{database}')"
   ]
  },
  {
   "cell_type": "code",
   "execution_count": null,
   "metadata": {},
   "outputs": [],
   "source": [
    "connection = engine.connect()"
   ]
  },
  {
   "cell_type": "code",
   "execution_count": null,
   "metadata": {},
   "outputs": [],
   "source": [
    "books_rating = pd.read_sql_table('books_rating', con=connection)\n",
    "display(books_rating)"
   ]
  },
  {
   "cell_type": "code",
   "execution_count": null,
   "metadata": {},
   "outputs": [],
   "source": [
    "books_rating['rating'] = books_rating['rating'].astype(float)"
   ]
  },
  {
   "cell_type": "code",
   "execution_count": null,
   "metadata": {},
   "outputs": [],
   "source": [
    "books_ratings = pd.read_sql_table('books_rating_raw', con=connection)\n",
    "books_ratings"
   ]
  },
  {
   "cell_type": "code",
   "execution_count": null,
   "metadata": {},
   "outputs": [],
   "source": [
    "mask = books_ratings[\"User_id\"].notna() & books_ratings[\"review/score\"].notna() & books_ratings[\"Title\"].notna()\n",
    "books_ratings = books_ratings.loc[mask]\n",
    "books_ratings[\"Title\"].unique().shape[0]"
   ]
  },
  {
   "cell_type": "code",
   "execution_count": null,
   "metadata": {},
   "outputs": [],
   "source": [
    "books_ratings = books_ratings.drop_duplicates().drop(columns=[\"Price\"])"
   ]
  },
  {
   "cell_type": "code",
   "execution_count": null,
   "metadata": {},
   "outputs": [],
   "source": [
    "books_ratings"
   ]
  },
  {
   "cell_type": "code",
   "execution_count": null,
   "metadata": {},
   "outputs": [],
   "source": [
    "books_id = pd.read_csv('book_dict_keys.csv')\n",
    "books_id.drop_duplicates(\"Title\", inplace=True)"
   ]
  },
  {
   "cell_type": "code",
   "execution_count": null,
   "metadata": {},
   "outputs": [],
   "source": [
    "books_id.dropna(inplace=True)"
   ]
  },
  {
   "cell_type": "code",
   "execution_count": null,
   "metadata": {},
   "outputs": [],
   "source": [
    "books_data"
   ]
  },
  {
   "cell_type": "code",
   "execution_count": null,
   "metadata": {},
   "outputs": [],
   "source": [
    "books_data = books_data.merge(books_id, on=\"Title\", how=\"inner\").drop_duplicates(\"Title\")\n",
    "books_data.to_sql('books_data', con=connection, if_exists='replace', index=False)"
   ]
  },
  {
   "cell_type": "code",
   "execution_count": null,
   "metadata": {},
   "outputs": [],
   "source": [
    "books_ratings.drop_duplicates([\"Title\", \"User_id\", \"review/summary\", \"review/text\"], inplace=True)\n",
    "books_ratings.columns"
   ]
  },
  {
   "cell_type": "code",
   "execution_count": null,
   "metadata": {},
   "outputs": [],
   "source": [
    "reviewed_books = books_data[books_data[\"Title\"].isin(books_ratings[\"Title\"])]\n",
    "reviewed_books.to_sql('reviewed_books', con=connection, if_exists='replace', index=False)"
   ]
  },
  {
   "cell_type": "code",
   "execution_count": null,
   "metadata": {},
   "outputs": [],
   "source": [
    "books_ratings = books_ratings.merge(reviewed_books, on=\"Title\", how=\"inner\")"
   ]
  },
  {
   "cell_type": "code",
   "execution_count": null,
   "metadata": {},
   "outputs": [],
   "source": [
    "books_ratings.to_sql('ratings_user_tagged', con=connection, if_exists='replace', index=False, chunksize=10000)"
   ]
  },
  {
   "cell_type": "code",
   "execution_count": null,
   "metadata": {},
   "outputs": [],
   "source": [
    "connection.rollback()"
   ]
  },
  {
   "cell_type": "code",
   "execution_count": null,
   "metadata": {},
   "outputs": [],
   "source": [
    "reviewed_tagged_books = pd.read_sql_table('books_data', con=connection)"
   ]
  },
  {
   "cell_type": "code",
   "execution_count": null,
   "metadata": {},
   "outputs": [],
   "source": [
    "ratings_user_tagged = pd.read_sql_table('ratings_user_tagged', con=connection)"
   ]
  },
  {
   "cell_type": "code",
   "execution_count": null,
   "metadata": {},
   "outputs": [],
   "source": [
    "ratings_user_tagged"
   ]
  },
  {
   "cell_type": "code",
   "execution_count": null,
   "metadata": {},
   "outputs": [],
   "source": [
    "res = { k: v.get([\"book_id\", \"review/score\"]) for k, v in ratings_user_tagged.groupby('User_id').filter(lambda x: len(x) > 10).groupby('User_id')}"
   ]
  },
  {
   "cell_type": "code",
   "execution_count": null,
   "metadata": {},
   "outputs": [],
   "source": [
    "matrix = pd.DataFrame(index=res.keys(), columns = reviewed_tagged_books[\"book_id\"].values)\n",
    "matrix"
   ]
  },
  {
   "cell_type": "code",
   "execution_count": null,
   "metadata": {},
   "outputs": [],
   "source": [
    "for k, v in res.items():\n",
    "\tt = v.reset_index(drop=True).transpose()\n",
    "\tmatrix.loc[k][t.loc[\"book_id\"]] = t.loc[\"review/score\"]\n",
    "# 4 min 20 sec runtime\n"
   ]
  },
  {
   "cell_type": "code",
   "execution_count": null,
   "metadata": {},
   "outputs": [],
   "source": [
    "matrix"
   ]
  },
  {
   "cell_type": "code",
   "execution_count": 30,
   "metadata": {},
   "outputs": [
    {
     "data": {
      "text/html": [
       "<div>\n",
       "<style scoped>\n",
       "    .dataframe tbody tr th:only-of-type {\n",
       "        vertical-align: middle;\n",
       "    }\n",
       "\n",
       "    .dataframe tbody tr th {\n",
       "        vertical-align: top;\n",
       "    }\n",
       "\n",
       "    .dataframe thead th {\n",
       "        text-align: right;\n",
       "    }\n",
       "</style>\n",
       "<table border=\"1\" class=\"dataframe\">\n",
       "  <thead>\n",
       "    <tr style=\"text-align: right;\">\n",
       "      <th></th>\n",
       "      <th>0826414346</th>\n",
       "      <th>0829814000</th>\n",
       "      <th>0963923080</th>\n",
       "      <th>0854968350</th>\n",
       "      <th>0918973031</th>\n",
       "      <th>0792391810</th>\n",
       "      <th>0789480662</th>\n",
       "      <th>0517150328</th>\n",
       "      <th>B000857LFE</th>\n",
       "      <th>1884734766</th>\n",
       "      <th>...</th>\n",
       "      <th>0765306832</th>\n",
       "      <th>B0002RQ1N6</th>\n",
       "      <th>B000BWUJLC</th>\n",
       "      <th>0679783334</th>\n",
       "      <th>0977070808</th>\n",
       "      <th>B0006E1KEK</th>\n",
       "      <th>0812553861</th>\n",
       "      <th>1418016985</th>\n",
       "      <th>0590482467</th>\n",
       "      <th>1402508735</th>\n",
       "    </tr>\n",
       "  </thead>\n",
       "  <tbody>\n",
       "    <tr>\n",
       "      <th>A01038432MVI9JXYTTK5T</th>\n",
       "      <td>NaN</td>\n",
       "      <td>NaN</td>\n",
       "      <td>NaN</td>\n",
       "      <td>NaN</td>\n",
       "      <td>NaN</td>\n",
       "      <td>NaN</td>\n",
       "      <td>NaN</td>\n",
       "      <td>NaN</td>\n",
       "      <td>NaN</td>\n",
       "      <td>NaN</td>\n",
       "      <td>...</td>\n",
       "      <td>NaN</td>\n",
       "      <td>NaN</td>\n",
       "      <td>NaN</td>\n",
       "      <td>NaN</td>\n",
       "      <td>NaN</td>\n",
       "      <td>NaN</td>\n",
       "      <td>NaN</td>\n",
       "      <td>NaN</td>\n",
       "      <td>NaN</td>\n",
       "      <td>NaN</td>\n",
       "    </tr>\n",
       "    <tr>\n",
       "      <th>A07587253PDB1WFIEPBPY</th>\n",
       "      <td>NaN</td>\n",
       "      <td>NaN</td>\n",
       "      <td>NaN</td>\n",
       "      <td>NaN</td>\n",
       "      <td>NaN</td>\n",
       "      <td>NaN</td>\n",
       "      <td>NaN</td>\n",
       "      <td>NaN</td>\n",
       "      <td>NaN</td>\n",
       "      <td>NaN</td>\n",
       "      <td>...</td>\n",
       "      <td>NaN</td>\n",
       "      <td>NaN</td>\n",
       "      <td>NaN</td>\n",
       "      <td>NaN</td>\n",
       "      <td>NaN</td>\n",
       "      <td>NaN</td>\n",
       "      <td>NaN</td>\n",
       "      <td>NaN</td>\n",
       "      <td>NaN</td>\n",
       "      <td>NaN</td>\n",
       "    </tr>\n",
       "    <tr>\n",
       "      <th>A100NGGXRQF0AQ</th>\n",
       "      <td>NaN</td>\n",
       "      <td>NaN</td>\n",
       "      <td>NaN</td>\n",
       "      <td>NaN</td>\n",
       "      <td>NaN</td>\n",
       "      <td>NaN</td>\n",
       "      <td>NaN</td>\n",
       "      <td>NaN</td>\n",
       "      <td>NaN</td>\n",
       "      <td>NaN</td>\n",
       "      <td>...</td>\n",
       "      <td>NaN</td>\n",
       "      <td>NaN</td>\n",
       "      <td>NaN</td>\n",
       "      <td>NaN</td>\n",
       "      <td>NaN</td>\n",
       "      <td>NaN</td>\n",
       "      <td>NaN</td>\n",
       "      <td>NaN</td>\n",
       "      <td>NaN</td>\n",
       "      <td>NaN</td>\n",
       "    </tr>\n",
       "    <tr>\n",
       "      <th>A100V1W0C8BWOL</th>\n",
       "      <td>NaN</td>\n",
       "      <td>NaN</td>\n",
       "      <td>NaN</td>\n",
       "      <td>NaN</td>\n",
       "      <td>NaN</td>\n",
       "      <td>NaN</td>\n",
       "      <td>NaN</td>\n",
       "      <td>NaN</td>\n",
       "      <td>NaN</td>\n",
       "      <td>NaN</td>\n",
       "      <td>...</td>\n",
       "      <td>NaN</td>\n",
       "      <td>NaN</td>\n",
       "      <td>NaN</td>\n",
       "      <td>NaN</td>\n",
       "      <td>NaN</td>\n",
       "      <td>NaN</td>\n",
       "      <td>NaN</td>\n",
       "      <td>NaN</td>\n",
       "      <td>NaN</td>\n",
       "      <td>NaN</td>\n",
       "    </tr>\n",
       "    <tr>\n",
       "      <th>A100YDQ9DIP06P</th>\n",
       "      <td>NaN</td>\n",
       "      <td>NaN</td>\n",
       "      <td>NaN</td>\n",
       "      <td>NaN</td>\n",
       "      <td>NaN</td>\n",
       "      <td>NaN</td>\n",
       "      <td>NaN</td>\n",
       "      <td>NaN</td>\n",
       "      <td>NaN</td>\n",
       "      <td>NaN</td>\n",
       "      <td>...</td>\n",
       "      <td>NaN</td>\n",
       "      <td>NaN</td>\n",
       "      <td>NaN</td>\n",
       "      <td>NaN</td>\n",
       "      <td>NaN</td>\n",
       "      <td>NaN</td>\n",
       "      <td>NaN</td>\n",
       "      <td>NaN</td>\n",
       "      <td>NaN</td>\n",
       "      <td>NaN</td>\n",
       "    </tr>\n",
       "    <tr>\n",
       "      <th>...</th>\n",
       "      <td>...</td>\n",
       "      <td>...</td>\n",
       "      <td>...</td>\n",
       "      <td>...</td>\n",
       "      <td>...</td>\n",
       "      <td>...</td>\n",
       "      <td>...</td>\n",
       "      <td>...</td>\n",
       "      <td>...</td>\n",
       "      <td>...</td>\n",
       "      <td>...</td>\n",
       "      <td>...</td>\n",
       "      <td>...</td>\n",
       "      <td>...</td>\n",
       "      <td>...</td>\n",
       "      <td>...</td>\n",
       "      <td>...</td>\n",
       "      <td>...</td>\n",
       "      <td>...</td>\n",
       "      <td>...</td>\n",
       "      <td>...</td>\n",
       "    </tr>\n",
       "    <tr>\n",
       "      <th>AZY96LU53VWGO</th>\n",
       "      <td>NaN</td>\n",
       "      <td>NaN</td>\n",
       "      <td>NaN</td>\n",
       "      <td>NaN</td>\n",
       "      <td>NaN</td>\n",
       "      <td>NaN</td>\n",
       "      <td>NaN</td>\n",
       "      <td>NaN</td>\n",
       "      <td>NaN</td>\n",
       "      <td>NaN</td>\n",
       "      <td>...</td>\n",
       "      <td>NaN</td>\n",
       "      <td>NaN</td>\n",
       "      <td>NaN</td>\n",
       "      <td>NaN</td>\n",
       "      <td>NaN</td>\n",
       "      <td>NaN</td>\n",
       "      <td>NaN</td>\n",
       "      <td>NaN</td>\n",
       "      <td>NaN</td>\n",
       "      <td>NaN</td>\n",
       "    </tr>\n",
       "    <tr>\n",
       "      <th>AZYIHKBD3FZBI</th>\n",
       "      <td>NaN</td>\n",
       "      <td>NaN</td>\n",
       "      <td>NaN</td>\n",
       "      <td>NaN</td>\n",
       "      <td>NaN</td>\n",
       "      <td>NaN</td>\n",
       "      <td>NaN</td>\n",
       "      <td>NaN</td>\n",
       "      <td>NaN</td>\n",
       "      <td>NaN</td>\n",
       "      <td>...</td>\n",
       "      <td>NaN</td>\n",
       "      <td>NaN</td>\n",
       "      <td>NaN</td>\n",
       "      <td>NaN</td>\n",
       "      <td>NaN</td>\n",
       "      <td>NaN</td>\n",
       "      <td>NaN</td>\n",
       "      <td>NaN</td>\n",
       "      <td>NaN</td>\n",
       "      <td>NaN</td>\n",
       "    </tr>\n",
       "    <tr>\n",
       "      <th>AZZ1E6SG4RAT7</th>\n",
       "      <td>NaN</td>\n",
       "      <td>NaN</td>\n",
       "      <td>NaN</td>\n",
       "      <td>NaN</td>\n",
       "      <td>NaN</td>\n",
       "      <td>NaN</td>\n",
       "      <td>NaN</td>\n",
       "      <td>NaN</td>\n",
       "      <td>NaN</td>\n",
       "      <td>NaN</td>\n",
       "      <td>...</td>\n",
       "      <td>NaN</td>\n",
       "      <td>NaN</td>\n",
       "      <td>NaN</td>\n",
       "      <td>NaN</td>\n",
       "      <td>NaN</td>\n",
       "      <td>NaN</td>\n",
       "      <td>NaN</td>\n",
       "      <td>NaN</td>\n",
       "      <td>NaN</td>\n",
       "      <td>NaN</td>\n",
       "    </tr>\n",
       "    <tr>\n",
       "      <th>AZZCSTUZ5EO4I</th>\n",
       "      <td>NaN</td>\n",
       "      <td>NaN</td>\n",
       "      <td>NaN</td>\n",
       "      <td>NaN</td>\n",
       "      <td>NaN</td>\n",
       "      <td>NaN</td>\n",
       "      <td>NaN</td>\n",
       "      <td>NaN</td>\n",
       "      <td>NaN</td>\n",
       "      <td>NaN</td>\n",
       "      <td>...</td>\n",
       "      <td>NaN</td>\n",
       "      <td>NaN</td>\n",
       "      <td>NaN</td>\n",
       "      <td>NaN</td>\n",
       "      <td>NaN</td>\n",
       "      <td>NaN</td>\n",
       "      <td>NaN</td>\n",
       "      <td>NaN</td>\n",
       "      <td>NaN</td>\n",
       "      <td>NaN</td>\n",
       "    </tr>\n",
       "    <tr>\n",
       "      <th>AZZVZL4QEHEHO</th>\n",
       "      <td>NaN</td>\n",
       "      <td>NaN</td>\n",
       "      <td>NaN</td>\n",
       "      <td>NaN</td>\n",
       "      <td>NaN</td>\n",
       "      <td>NaN</td>\n",
       "      <td>NaN</td>\n",
       "      <td>NaN</td>\n",
       "      <td>NaN</td>\n",
       "      <td>NaN</td>\n",
       "      <td>...</td>\n",
       "      <td>NaN</td>\n",
       "      <td>NaN</td>\n",
       "      <td>NaN</td>\n",
       "      <td>NaN</td>\n",
       "      <td>NaN</td>\n",
       "      <td>NaN</td>\n",
       "      <td>NaN</td>\n",
       "      <td>NaN</td>\n",
       "      <td>NaN</td>\n",
       "      <td>NaN</td>\n",
       "    </tr>\n",
       "  </tbody>\n",
       "</table>\n",
       "<p>17683 rows × 105747 columns</p>\n",
       "</div>"
      ],
      "text/plain": [
       "                      0826414346 0829814000 0963923080 0854968350 0918973031  \\\n",
       "A01038432MVI9JXYTTK5T        NaN        NaN        NaN        NaN        NaN   \n",
       "A07587253PDB1WFIEPBPY        NaN        NaN        NaN        NaN        NaN   \n",
       "A100NGGXRQF0AQ               NaN        NaN        NaN        NaN        NaN   \n",
       "A100V1W0C8BWOL               NaN        NaN        NaN        NaN        NaN   \n",
       "A100YDQ9DIP06P               NaN        NaN        NaN        NaN        NaN   \n",
       "...                          ...        ...        ...        ...        ...   \n",
       "AZY96LU53VWGO                NaN        NaN        NaN        NaN        NaN   \n",
       "AZYIHKBD3FZBI                NaN        NaN        NaN        NaN        NaN   \n",
       "AZZ1E6SG4RAT7                NaN        NaN        NaN        NaN        NaN   \n",
       "AZZCSTUZ5EO4I                NaN        NaN        NaN        NaN        NaN   \n",
       "AZZVZL4QEHEHO                NaN        NaN        NaN        NaN        NaN   \n",
       "\n",
       "                      0792391810 0789480662 0517150328 B000857LFE 1884734766  \\\n",
       "A01038432MVI9JXYTTK5T        NaN        NaN        NaN        NaN        NaN   \n",
       "A07587253PDB1WFIEPBPY        NaN        NaN        NaN        NaN        NaN   \n",
       "A100NGGXRQF0AQ               NaN        NaN        NaN        NaN        NaN   \n",
       "A100V1W0C8BWOL               NaN        NaN        NaN        NaN        NaN   \n",
       "A100YDQ9DIP06P               NaN        NaN        NaN        NaN        NaN   \n",
       "...                          ...        ...        ...        ...        ...   \n",
       "AZY96LU53VWGO                NaN        NaN        NaN        NaN        NaN   \n",
       "AZYIHKBD3FZBI                NaN        NaN        NaN        NaN        NaN   \n",
       "AZZ1E6SG4RAT7                NaN        NaN        NaN        NaN        NaN   \n",
       "AZZCSTUZ5EO4I                NaN        NaN        NaN        NaN        NaN   \n",
       "AZZVZL4QEHEHO                NaN        NaN        NaN        NaN        NaN   \n",
       "\n",
       "                       ... 0765306832 B0002RQ1N6 B000BWUJLC 0679783334  \\\n",
       "A01038432MVI9JXYTTK5T  ...        NaN        NaN        NaN        NaN   \n",
       "A07587253PDB1WFIEPBPY  ...        NaN        NaN        NaN        NaN   \n",
       "A100NGGXRQF0AQ         ...        NaN        NaN        NaN        NaN   \n",
       "A100V1W0C8BWOL         ...        NaN        NaN        NaN        NaN   \n",
       "A100YDQ9DIP06P         ...        NaN        NaN        NaN        NaN   \n",
       "...                    ...        ...        ...        ...        ...   \n",
       "AZY96LU53VWGO          ...        NaN        NaN        NaN        NaN   \n",
       "AZYIHKBD3FZBI          ...        NaN        NaN        NaN        NaN   \n",
       "AZZ1E6SG4RAT7          ...        NaN        NaN        NaN        NaN   \n",
       "AZZCSTUZ5EO4I          ...        NaN        NaN        NaN        NaN   \n",
       "AZZVZL4QEHEHO          ...        NaN        NaN        NaN        NaN   \n",
       "\n",
       "                      0977070808 B0006E1KEK 0812553861 1418016985 0590482467  \\\n",
       "A01038432MVI9JXYTTK5T        NaN        NaN        NaN        NaN        NaN   \n",
       "A07587253PDB1WFIEPBPY        NaN        NaN        NaN        NaN        NaN   \n",
       "A100NGGXRQF0AQ               NaN        NaN        NaN        NaN        NaN   \n",
       "A100V1W0C8BWOL               NaN        NaN        NaN        NaN        NaN   \n",
       "A100YDQ9DIP06P               NaN        NaN        NaN        NaN        NaN   \n",
       "...                          ...        ...        ...        ...        ...   \n",
       "AZY96LU53VWGO                NaN        NaN        NaN        NaN        NaN   \n",
       "AZYIHKBD3FZBI                NaN        NaN        NaN        NaN        NaN   \n",
       "AZZ1E6SG4RAT7                NaN        NaN        NaN        NaN        NaN   \n",
       "AZZCSTUZ5EO4I                NaN        NaN        NaN        NaN        NaN   \n",
       "AZZVZL4QEHEHO                NaN        NaN        NaN        NaN        NaN   \n",
       "\n",
       "                      1402508735  \n",
       "A01038432MVI9JXYTTK5T        NaN  \n",
       "A07587253PDB1WFIEPBPY        NaN  \n",
       "A100NGGXRQF0AQ               NaN  \n",
       "A100V1W0C8BWOL               NaN  \n",
       "A100YDQ9DIP06P               NaN  \n",
       "...                          ...  \n",
       "AZY96LU53VWGO                NaN  \n",
       "AZYIHKBD3FZBI                NaN  \n",
       "AZZ1E6SG4RAT7                NaN  \n",
       "AZZCSTUZ5EO4I                NaN  \n",
       "AZZVZL4QEHEHO                NaN  \n",
       "\n",
       "[17683 rows x 105747 columns]"
      ]
     },
     "execution_count": 30,
     "metadata": {},
     "output_type": "execute_result"
    }
   ],
   "source": [
    "M = matrix.dropna(axis=1, how='all')\n",
    "M"
   ]
  },
  {
   "cell_type": "code",
   "execution_count": 34,
   "metadata": {},
   "outputs": [],
   "source": [
    "matrix = M"
   ]
  },
  {
   "cell_type": "code",
   "execution_count": 35,
   "metadata": {},
   "outputs": [],
   "source": [
    "matrix.to_csv(\"matrix.csv\")"
   ]
  },
  {
   "cell_type": "code",
   "execution_count": null,
   "metadata": {},
   "outputs": [],
   "source": [
    "matrix.to_parquet('matrix.parquet.gzip',\n",
    "              compression='gzip')"
   ]
  },
  {
   "cell_type": "code",
   "execution_count": null,
   "metadata": {},
   "outputs": [],
   "source": [
    "test = pd.read_csv(\"matrix.csv\", index_col=0)\n",
    "test"
   ]
  },
  {
   "cell_type": "code",
   "execution_count": null,
   "metadata": {},
   "outputs": [],
   "source": []
  },
  {
   "cell_type": "code",
   "execution_count": null,
   "metadata": {},
   "outputs": [],
   "source": [
    "matrix.replace(0, np.nan).isna().sum().sum()"
   ]
  },
  {
   "cell_type": "code",
   "execution_count": null,
   "metadata": {},
   "outputs": [],
   "source": [
    "connection.close()"
   ]
  }
 ],
 "metadata": {
  "kernelspec": {
   "display_name": "Python 3",
   "language": "python",
   "name": "python3"
  },
  "language_info": {
   "codemirror_mode": {
    "name": "ipython",
    "version": 3
   },
   "file_extension": ".py",
   "mimetype": "text/x-python",
   "name": "python",
   "nbconvert_exporter": "python",
   "pygments_lexer": "ipython3",
   "version": "3.12.0"
  }
 },
 "nbformat": 4,
 "nbformat_minor": 2
}
