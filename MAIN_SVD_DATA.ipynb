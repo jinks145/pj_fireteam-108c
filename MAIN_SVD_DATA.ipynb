{
 "cells": [
  {
   "cell_type": "code",
   "execution_count": 32,
   "id": "8d8df85b-1824-4f49-9bfd-19225a971d8f",
   "metadata": {},
   "outputs": [],
   "source": [
    "#import libraries\n",
    "import numpy as np\n",
    "import pprint\n",
    "import scipy\n",
    "import scipy.linalg\n",
    "import pandas as pd\n",
    "import random\n",
    "from collections import OrderedDict\n",
    "from scipy.linalg import svd\n",
    "from sklearn.model_selection import cross_val_score\n",
    "from sklearn.model_selection import RepeatedKFold\n",
    "from sklearn.linear_model import Lasso\n",
    "import matplotlib.pyplot as plt\n",
    "from mpl_toolkits.mplot3d import Axes3D\n",
    "import json\n",
    "from tqdm import tqdm\n",
    "from collections import defaultdict\n",
    "from surprise import Reader, Dataset, accuracy\n",
    "from surprise.model_selection import cross_validate, GridSearchCV\n",
    "from surprise.prediction_algorithms import SVD, KNNBasic, KNNBaseline\n",
    "from surprise.model_selection import train_test_split\n",
    "np.set_printoptions(threshold=20)\n",
    "pd.options.mode.copy_on_write = True\n",
    "\n",
    "from ipynb.fs.full.SVD_FUNCTIONS import csv_to_df\n",
    "from ipynb.fs.full.SVD_FUNCTIONS import Convert_to_Matrix\n",
    "from ipynb.fs.full.SVD_FUNCTIONS import LU_Factorization\n",
    "from ipynb.fs.full.SVD_FUNCTIONS import find_similar\n",
    "from ipynb.fs.full.SVD_FUNCTIONS import get_most_frequent_users\n",
    "from ipynb.fs.full.SVD_FUNCTIONS import get_users_with_minimal_ratings\n",
    "from ipynb.fs.full.SVD_FUNCTIONS import get_training_data\n",
    "from ipynb.fs.full.SVD_FUNCTIONS import pivot_rating_to_user_frame\n",
    "from ipynb.fs.full.SVD_FUNCTIONS import do_svd\n",
    "from ipynb.fs.full.SVD_FUNCTIONS import plot_data\n",
    "\n",
    "from ipynb.fs.full.SVD_FUNCTIONS import recommend\n",
    "from ipynb.fs.full.SVD_FUNCTIONS import get_tier_list\n",
    "from ipynb.fs.full.SVD_FUNCTIONS import get_individual_user_data\n",
    "from ipynb.fs.full.SVD_FUNCTIONS import print_user_data\n"
   ]
  },
  {
   "cell_type": "code",
   "execution_count": 6,
   "id": "bb5d5e74-cfef-4721-80be-9958cbace358",
   "metadata": {},
   "outputs": [],
   "source": [
    "books_ratings_cleaned, book_dict = csv_to_df(\"Books_rating.csv\", \"books_data.csv\")"
   ]
  },
  {
   "cell_type": "code",
   "execution_count": 7,
   "id": "ef9ecbe3-0621-4939-9e8e-8b5267c89470",
   "metadata": {
    "scrolled": true
   },
   "outputs": [
    {
     "data": {
      "text/plain": [
       "Id              2438213\n",
       "User_id         2438213\n",
       "review/score    2438213\n",
       "dtype: int64"
      ]
     },
     "execution_count": 7,
     "metadata": {},
     "output_type": "execute_result"
    }
   ],
   "source": [
    "books_ratings_cleaned.count()"
   ]
  },
  {
   "cell_type": "code",
   "execution_count": 8,
   "id": "ff06314d-0889-44cd-98d9-abc341b10e20",
   "metadata": {},
   "outputs": [
    {
     "data": {
      "text/html": [
       "<div>\n",
       "<style scoped>\n",
       "    .dataframe tbody tr th:only-of-type {\n",
       "        vertical-align: middle;\n",
       "    }\n",
       "\n",
       "    .dataframe tbody tr th {\n",
       "        vertical-align: top;\n",
       "    }\n",
       "\n",
       "    .dataframe thead th {\n",
       "        text-align: right;\n",
       "    }\n",
       "</style>\n",
       "<table border=\"1\" class=\"dataframe\">\n",
       "  <thead>\n",
       "    <tr style=\"text-align: right;\">\n",
       "      <th></th>\n",
       "      <th>User_id</th>\n",
       "      <th>Id</th>\n",
       "      <th>review/score</th>\n",
       "    </tr>\n",
       "  </thead>\n",
       "  <tbody>\n",
       "    <tr>\n",
       "      <th>0</th>\n",
       "      <td>AVCGYZL8FQQTD</td>\n",
       "      <td>1882931173</td>\n",
       "      <td>4.0</td>\n",
       "    </tr>\n",
       "    <tr>\n",
       "      <th>1</th>\n",
       "      <td>A30TK6U7DNS82R</td>\n",
       "      <td>0826414346</td>\n",
       "      <td>5.0</td>\n",
       "    </tr>\n",
       "    <tr>\n",
       "      <th>2</th>\n",
       "      <td>A3UH4UZ4RSVO82</td>\n",
       "      <td>0826414346</td>\n",
       "      <td>5.0</td>\n",
       "    </tr>\n",
       "    <tr>\n",
       "      <th>3</th>\n",
       "      <td>A2MVUWT453QH61</td>\n",
       "      <td>0826414346</td>\n",
       "      <td>4.0</td>\n",
       "    </tr>\n",
       "    <tr>\n",
       "      <th>4</th>\n",
       "      <td>A22X4XUPKF66MR</td>\n",
       "      <td>0826414346</td>\n",
       "      <td>4.0</td>\n",
       "    </tr>\n",
       "  </tbody>\n",
       "</table>\n",
       "</div>"
      ],
      "text/plain": [
       "          User_id          Id  review/score\n",
       "0   AVCGYZL8FQQTD  1882931173           4.0\n",
       "1  A30TK6U7DNS82R  0826414346           5.0\n",
       "2  A3UH4UZ4RSVO82  0826414346           5.0\n",
       "3  A2MVUWT453QH61  0826414346           4.0\n",
       "4  A22X4XUPKF66MR  0826414346           4.0"
      ]
     },
     "execution_count": 8,
     "metadata": {},
     "output_type": "execute_result"
    }
   ],
   "source": [
    "columns_titles = [\"User_id\",\"Id\", \"review/score\"]\n",
    "\n",
    "user_book_data = books_ratings_cleaned.head(500000)\n",
    "\n",
    "user_book_data_reindex = user_book_data.reindex(columns=columns_titles)\n",
    "\n",
    "user_book_data_reindex.head()"
   ]
  },
  {
   "cell_type": "code",
   "execution_count": 9,
   "id": "99539432-4dc0-435c-8ab5-8b338fd6ed4c",
   "metadata": {},
   "outputs": [
    {
     "data": {
      "text/plain": [
       "314045"
      ]
     },
     "execution_count": 9,
     "metadata": {},
     "output_type": "execute_result"
    }
   ],
   "source": [
    "len(user_book_data_reindex['User_id'].unique())"
   ]
  },
  {
   "cell_type": "code",
   "execution_count": 10,
   "id": "695d7dfc-4581-429d-a58f-67a1131ce394",
   "metadata": {
    "scrolled": true
   },
   "outputs": [
    {
     "name": "stderr",
     "output_type": "stream",
     "text": [
      "100%|█████████████████████████████████████████████████████████████████████████| 35279/35279 [00:03<00:00, 11736.10it/s]\n",
      "100%|█████████████████████████████████████████████████████████████████████████| 11760/11760 [00:00<00:00, 12228.28it/s]\n"
     ]
    }
   ],
   "source": [
    "#EXCUTE ME PLEASE FOR REAL IM DYING\n",
    "#LIKE REALLY, RUN ME\n",
    "training_data, test_data = get_training_data(0.75, user_book_data)"
   ]
  },
  {
   "cell_type": "code",
   "execution_count": 11,
   "id": "97664af7-5490-4e8c-8eb1-fdb327e12992",
   "metadata": {
    "scrolled": true
   },
   "outputs": [
    {
     "data": {
      "text/plain": [
       "(1044, 11173)"
      ]
     },
     "execution_count": 11,
     "metadata": {},
     "output_type": "execute_result"
    }
   ],
   "source": [
    "A = training_data.fillna(0)\n",
    "\n",
    "A.shape"
   ]
  },
  {
   "cell_type": "code",
   "execution_count": 33,
   "id": "31bf5576-2790-4ce0-8760-ec5faa4f3ccc",
   "metadata": {
    "scrolled": true
   },
   "outputs": [],
   "source": [
    "column_names = list(A.columns)\n",
    "row_names = list(A.transpose().columns)\n",
    "\n",
    "user = 162"
   ]
  },
  {
   "cell_type": "code",
   "execution_count": 34,
   "id": "3e5e641d-25ca-4383-b6d0-846f77459bca",
   "metadata": {
    "scrolled": true
   },
   "outputs": [
    {
     "name": "stdout",
     "output_type": "stream",
     "text": [
      "int64\n"
     ]
    }
   ],
   "source": [
    "new_A= A.to_numpy()\n",
    "# change the dtype to 'float64' \n",
    "new_A= new_A.astype('int64') \n",
    "# print the data type \n",
    "print(new_A.dtype)\n",
    "U, Vt = do_svd(new_A,50)\n"
   ]
  },
  {
   "cell_type": "code",
   "execution_count": 35,
   "id": "f0152877-c157-42ff-acd8-473d48c98b7a",
   "metadata": {
    "scrolled": true
   },
   "outputs": [
    {
     "name": "stdout",
     "output_type": "stream",
     "text": [
      "User A633NIAR4JJAR recommendations:\n",
      "1556909330 ['Dune', 1522]\n",
      "B000HJNEYS ['Memoirs of a Geisha (Signed)', 2693]\n",
      "0582538319 ['Hard Times (Structural Readers)', 81]\n",
      "B000FC2N76 ['Hard Times (Bantam Classics)', 81]\n",
      "B000KL3P7E ['The Epic of Gilgamesh: An English Version With an Introduction', 92]\n"
     ]
    }
   ],
   "source": [
    "user_tiers = get_tier_list(column_names, row_names, user, Vt, book_dict)\n",
    "user_individual_data, refined_user_list, get_user_scores, get_user_review_list = get_individual_user_data(column_names, row_names, A, user, book_dict)"
   ]
  },
  {
   "cell_type": "code",
   "execution_count": 36,
   "id": "4a2006b1-9635-4aa9-8e9e-be381d02cb82",
   "metadata": {
    "scrolled": true
   },
   "outputs": [
    {
     "name": "stdout",
     "output_type": "stream",
     "text": [
      "User A633NIAR4JJAR book reviews with score:\n",
      "\n",
      "B000TZ19TC ['Fahrenheit 451', 1648] 5.0\n",
      "B000KOII0U ['The Lion, The witch and the Wardrobe', 592] 5.0\n",
      "B000IEZE3G [\"Harry Potter and The Sorcerer's Stone\", 6796] 5.0\n",
      "B000GL8UMI ['Fahrenheit 451', 1639] 5.0\n",
      "B000KAIZX4 ['Lion, the Witch, and the Wardrobe', 569] 5.0\n",
      "B000TNGU5M ['Night', 961] 5.0\n",
      "1579217370 ['Something That Lasts', 32] 5.0\n",
      "0801022622 ['Biblical Preaching: The Development and Delivery of Expository Messages', 49] 5.0\n",
      "B00005X479 ['Walden : or, Life in the woods', 303] 5.0\n",
      "B00087U6XG ['The life and times of Jesus the Messiah', 36] 3.0\n",
      "0849912229 ['The Macarthur Study Bible ~ New King James Version (NKJV)', 250] 5.0\n",
      "0830815449 ['The Jesus Quest: The Third Search for the Jew of Nazareth', 21] 4.0\n",
      "B0006SHMHA ['Population: 485 : Meeting Your Neighbors One Siren at a Time', 100] 5.0\n",
      "B00086Q2YO ['The life and times of Jesus the Messiah', 36] 3.0\n",
      "0764225545 ['Systematic Theology, Vol. 4: Church/Last Things', 6] 4.0\n",
      "1591858828 [\"23 Minutes In Hell: One Man's Story About What He Saw, Heard, and Felt in that Place of Torment\", 493] 4.0\n",
      "1585748293 ['Facing Ali: 15 Fighters / 15 Stories', 22] 5.0\n",
      "0842347119 [\"Now, That's a Good Question!\", 17] 4.0\n",
      "B00071I9TG ['The life and times of Jesus the Messiah', 36] 3.0\n",
      "B00087PKJ6 ['The life and times of Jesus the Messiah', 36] 3.0\n"
     ]
    }
   ],
   "source": [
    "print_user_data(user, refined_user_list, get_user_review_list, get_user_scores, row_names)"
   ]
  },
  {
   "cell_type": "code",
   "execution_count": 27,
   "id": "390afbf8-6904-46fc-8c03-5ad39d194ddf",
   "metadata": {},
   "outputs": [
    {
     "data": {
      "image/png": "[encoded data removed]",
      "text/plain": [
       "<Figure size 640x480 with 1 Axes>"
      ]
     },
     "metadata": {},
     "output_type": "display_data"
    }
   ],
   "source": [
    "plot_data(U, \"User\")"
   ]
  },
  {
   "cell_type": "code",
   "execution_count": 67,
   "id": "0bc372d0-eedd-4f40-8e46-f862be02403f",
   "metadata": {},
   "outputs": [],
   "source": [
    "#plot_data(Vt.transpose(), \"User\")"
   ]
  },
  {
   "cell_type": "code",
   "execution_count": 20,
   "id": "51201ce5-1456-4ebd-9f51-192d05696477",
   "metadata": {},
   "outputs": [
    {
     "name": "stdout",
     "output_type": "stream",
     "text": [
      "Evaluating RMSE, MAE of algorithm SVD on 5 split(s).\n",
      "\n",
      "                  Fold 1  Fold 2  Fold 3  Fold 4  Fold 5  Mean    Std     \n",
      "RMSE (testset)    1.0530  1.0469  1.0513  1.0514  1.0541  1.0514  0.0024  \n",
      "MAE (testset)     0.7844  0.7822  0.7850  0.7836  0.7859  0.7842  0.0013  \n",
      "Fit time          7.42    7.59    8.29    7.71    7.71    7.74    0.29    \n",
      "Test time         1.29    1.38    1.22    1.09    1.08    1.21    0.12    \n"
     ]
    },
    {
     "data": {
      "text/plain": [
       "{'test_rmse': array([1.05300092, 1.0469499 , 1.05131595, 1.05138255, 1.05413059]),\n",
       " 'test_mae': array([0.78440503, 0.7821972 , 0.78497024, 0.78356565, 0.78590241]),\n",
       " 'fit_time': (7.416504383087158,\n",
       "  7.5873863697052,\n",
       "  8.290653944015503,\n",
       "  7.712865829467773,\n",
       "  7.714359283447266),\n",
       " 'test_time': (1.294778823852539,\n",
       "  1.3831429481506348,\n",
       "  1.2231407165527344,\n",
       "  1.0850679874420166,\n",
       "  1.0847342014312744)}"
      ]
     },
     "execution_count": 20,
     "metadata": {},
     "output_type": "execute_result"
    }
   ],
   "source": [
    "USERBOOK = user_book_data_reindex\n",
    "\n",
    "reader = Reader()\n",
    "data = Dataset.load_from_df(USERBOOK, reader)\n",
    "\n",
    "# Use the famous SVD algorithm.\n",
    "algo = SVD()\n",
    "\n",
    "# Run 5-fold cross-validation and print results.\n",
    "cross_validate(algo, data, measures=['RMSE', 'MAE'], cv=5, verbose=True)"
   ]
  },
  {
   "cell_type": "code",
   "execution_count": 21,
   "id": "f74989aa-e567-4c6a-ba43-de4fac512fea",
   "metadata": {},
   "outputs": [
    {
     "data": {
      "text/plain": [
       "<surprise.prediction_algorithms.matrix_factorization.SVD at 0x1d0420ec640>"
      ]
     },
     "execution_count": 21,
     "metadata": {},
     "output_type": "execute_result"
    }
   ],
   "source": [
    "dataset = data.build_full_trainset()\n",
    "svd = SVD(n_factors=10, reg_all=0.05)\n",
    "svd.fit(dataset)"
   ]
  },
  {
   "cell_type": "code",
   "execution_count": 22,
   "id": "a4a3733e-92ab-4cdb-a05e-5f5aa8618e5f",
   "metadata": {},
   "outputs": [
    {
     "name": "stdout",
     "output_type": "stream",
     "text": [
      "RMSE: 1.0456\n"
     ]
    },
    {
     "data": {
      "text/plain": [
       "1.0455565204207031"
      ]
     },
     "execution_count": 22,
     "metadata": {},
     "output_type": "execute_result"
    }
   ],
   "source": [
    "trainset, testset = train_test_split(data, test_size=0.10)\n",
    "algo.fit(trainset)\n",
    "predictions = algo.test(testset)\n",
    "\n",
    "# Then compute RMSE\n",
    "accuracy.rmse(predictions)"
   ]
  },
  {
   "cell_type": "code",
   "execution_count": 23,
   "id": "4ee70e22-2225-414b-a1f8-995c06c19d46",
   "metadata": {
    "scrolled": true
   },
   "outputs": [
    {
     "name": "stdout",
     "output_type": "stream",
     "text": [
      "user: A13G1TKIKHGV3F item: 0520050894 r_ui = None   est = 4.17   {'was_impossible': False}\n"
     ]
    },
    {
     "data": {
      "text/plain": [
       "[\"A Connecticut Yankee in King Arthur's Court (Mark Twain Library)\", 239]"
      ]
     },
     "execution_count": 23,
     "metadata": {},
     "output_type": "execute_result"
    }
   ],
   "source": [
    "print(svd.predict(row_names[user], '0520050894'))\n",
    "book_dict.get('0520050894')"
   ]
  },
  {
   "cell_type": "code",
   "execution_count": null,
   "id": "e5bddea6-60a7-4a1a-96c7-81307d98fb9c",
   "metadata": {},
   "outputs": [],
   "source": []
  },
  {
   "cell_type": "code",
   "execution_count": null,
   "id": "9be26396-9ef7-4995-83d1-68042061e2a9",
   "metadata": {},
   "outputs": [],
   "source": []
  }
 ],
 "metadata": {
  "kernelspec": {
   "display_name": "Python 3 (ipykernel)",
   "language": "python",
   "name": "python3"
  },
  "language_info": {
   "codemirror_mode": {
    "name": "ipython",
    "version": 3
   },
   "file_extension": ".py",
   "mimetype": "text/x-python",
   "name": "python",
   "nbconvert_exporter": "python",
   "pygments_lexer": "ipython3",
   "version": "3.10.9"
  }
 },
 "nbformat": 4,
 "nbformat_minor": 5
}
